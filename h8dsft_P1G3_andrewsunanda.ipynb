{
 "cells": [
  {
   "attachments": {},
   "cell_type": "markdown",
   "metadata": {},
   "source": [
    "# Graded Challenge 3 Phase 1"
   ]
  },
  {
   "attachments": {},
   "cell_type": "markdown",
   "metadata": {},
   "source": [
    "## 1. Introduction"
   ]
  },
  {
   "attachments": {},
   "cell_type": "markdown",
   "metadata": {},
   "source": [
    "Name            : Franciscus Andrew Sunanda\n",
    "\n",
    "Batch           : FTDS-RMT-018\n",
    "\n",
    "Dataset         : Heart Failure Data Set\n",
    "\n",
    "Objective       : Dapat memprediksi apakah seseorang akan mengalami Heart Failure berdasarkan kondisi kesehatan nya\n",
    "\n",
    "Evaluasi nya menggunakan Recall dari Classification Report, Accuracy Score, dan False Negative Rate"
   ]
  },
  {
   "attachments": {},
   "cell_type": "markdown",
   "metadata": {},
   "source": [
    "## 2. SQL Query"
   ]
  },
  {
   "attachments": {},
   "cell_type": "markdown",
   "metadata": {},
   "source": [
    "Berikut ini adalah SQL Queries yang saya pakail untuk mengambil data nya dari Google Cloud Platform:\n",
    "\n",
    "```\n",
    "SELECT * FROM `ftds-hacktiv8-project.phase1_ftds_018_rmt.heart-failure`\n",
    "```"
   ]
  },
  {
   "attachments": {},
   "cell_type": "markdown",
   "metadata": {},
   "source": [
    "## 3. Import Libraries"
   ]
  },
  {
   "cell_type": "code",
   "execution_count": 1,
   "metadata": {},
   "outputs": [],
   "source": [
    "import numpy as np\n",
    "import pandas as pd\n",
    "import matplotlib.pyplot as plt\n",
    "import seaborn as sns\n",
    "from sklearn.model_selection import train_test_split, cross_validate, RandomizedSearchCV, GridSearchCV\n",
    "from sklearn.preprocessing import MinMaxScaler, OrdinalEncoder\n",
    "from imblearn.over_sampling import SMOTENC\n",
    "from sklearn.ensemble import RandomForestClassifier, AdaBoostClassifier, VotingClassifier\n",
    "from sklearn.metrics import classification_report\n",
    "from scipy.stats import randint\n",
    "import json\n",
    "import pickle"
   ]
  },
  {
   "attachments": {},
   "cell_type": "markdown",
   "metadata": {},
   "source": [
    "## 4. Data Loading"
   ]
  },
  {
   "cell_type": "code",
   "execution_count": 2,
   "metadata": {},
   "outputs": [
    {
     "data": {
      "text/html": [
       "<div>\n",
       "<style scoped>\n",
       "    .dataframe tbody tr th:only-of-type {\n",
       "        vertical-align: middle;\n",
       "    }\n",
       "\n",
       "    .dataframe tbody tr th {\n",
       "        vertical-align: top;\n",
       "    }\n",
       "\n",
       "    .dataframe thead th {\n",
       "        text-align: right;\n",
       "    }\n",
       "</style>\n",
       "<table border=\"1\" class=\"dataframe\">\n",
       "  <thead>\n",
       "    <tr style=\"text-align: right;\">\n",
       "      <th></th>\n",
       "      <th>age</th>\n",
       "      <th>anaemia</th>\n",
       "      <th>creatinine_phosphokinase</th>\n",
       "      <th>diabetes</th>\n",
       "      <th>ejection_fraction</th>\n",
       "      <th>high_blood_pressure</th>\n",
       "      <th>platelets</th>\n",
       "      <th>serum_creatinine</th>\n",
       "      <th>serum_sodium</th>\n",
       "      <th>sex</th>\n",
       "      <th>smoking</th>\n",
       "      <th>time</th>\n",
       "      <th>DEATH_EVENT</th>\n",
       "    </tr>\n",
       "  </thead>\n",
       "  <tbody>\n",
       "    <tr>\n",
       "      <th>0</th>\n",
       "      <td>42.0</td>\n",
       "      <td>1</td>\n",
       "      <td>250</td>\n",
       "      <td>1</td>\n",
       "      <td>15</td>\n",
       "      <td>0</td>\n",
       "      <td>213000.0</td>\n",
       "      <td>1.3</td>\n",
       "      <td>136</td>\n",
       "      <td>0</td>\n",
       "      <td>0</td>\n",
       "      <td>65</td>\n",
       "      <td>1</td>\n",
       "    </tr>\n",
       "    <tr>\n",
       "      <th>1</th>\n",
       "      <td>46.0</td>\n",
       "      <td>0</td>\n",
       "      <td>168</td>\n",
       "      <td>1</td>\n",
       "      <td>17</td>\n",
       "      <td>1</td>\n",
       "      <td>271000.0</td>\n",
       "      <td>2.1</td>\n",
       "      <td>124</td>\n",
       "      <td>0</td>\n",
       "      <td>0</td>\n",
       "      <td>100</td>\n",
       "      <td>1</td>\n",
       "    </tr>\n",
       "    <tr>\n",
       "      <th>2</th>\n",
       "      <td>65.0</td>\n",
       "      <td>1</td>\n",
       "      <td>160</td>\n",
       "      <td>1</td>\n",
       "      <td>20</td>\n",
       "      <td>0</td>\n",
       "      <td>327000.0</td>\n",
       "      <td>2.7</td>\n",
       "      <td>116</td>\n",
       "      <td>0</td>\n",
       "      <td>0</td>\n",
       "      <td>8</td>\n",
       "      <td>1</td>\n",
       "    </tr>\n",
       "    <tr>\n",
       "      <th>3</th>\n",
       "      <td>53.0</td>\n",
       "      <td>1</td>\n",
       "      <td>91</td>\n",
       "      <td>0</td>\n",
       "      <td>20</td>\n",
       "      <td>1</td>\n",
       "      <td>418000.0</td>\n",
       "      <td>1.4</td>\n",
       "      <td>139</td>\n",
       "      <td>0</td>\n",
       "      <td>0</td>\n",
       "      <td>43</td>\n",
       "      <td>1</td>\n",
       "    </tr>\n",
       "    <tr>\n",
       "      <th>4</th>\n",
       "      <td>50.0</td>\n",
       "      <td>1</td>\n",
       "      <td>582</td>\n",
       "      <td>1</td>\n",
       "      <td>20</td>\n",
       "      <td>1</td>\n",
       "      <td>279000.0</td>\n",
       "      <td>1.0</td>\n",
       "      <td>134</td>\n",
       "      <td>0</td>\n",
       "      <td>0</td>\n",
       "      <td>186</td>\n",
       "      <td>0</td>\n",
       "    </tr>\n",
       "    <tr>\n",
       "      <th>5</th>\n",
       "      <td>70.0</td>\n",
       "      <td>1</td>\n",
       "      <td>125</td>\n",
       "      <td>0</td>\n",
       "      <td>25</td>\n",
       "      <td>1</td>\n",
       "      <td>237000.0</td>\n",
       "      <td>1.0</td>\n",
       "      <td>140</td>\n",
       "      <td>0</td>\n",
       "      <td>0</td>\n",
       "      <td>15</td>\n",
       "      <td>1</td>\n",
       "    </tr>\n",
       "    <tr>\n",
       "      <th>6</th>\n",
       "      <td>65.0</td>\n",
       "      <td>1</td>\n",
       "      <td>52</td>\n",
       "      <td>0</td>\n",
       "      <td>25</td>\n",
       "      <td>1</td>\n",
       "      <td>276000.0</td>\n",
       "      <td>1.3</td>\n",
       "      <td>137</td>\n",
       "      <td>0</td>\n",
       "      <td>0</td>\n",
       "      <td>16</td>\n",
       "      <td>0</td>\n",
       "    </tr>\n",
       "    <tr>\n",
       "      <th>7</th>\n",
       "      <td>70.0</td>\n",
       "      <td>0</td>\n",
       "      <td>161</td>\n",
       "      <td>0</td>\n",
       "      <td>25</td>\n",
       "      <td>0</td>\n",
       "      <td>244000.0</td>\n",
       "      <td>1.2</td>\n",
       "      <td>142</td>\n",
       "      <td>0</td>\n",
       "      <td>0</td>\n",
       "      <td>66</td>\n",
       "      <td>1</td>\n",
       "    </tr>\n",
       "    <tr>\n",
       "      <th>8</th>\n",
       "      <td>60.0</td>\n",
       "      <td>1</td>\n",
       "      <td>76</td>\n",
       "      <td>1</td>\n",
       "      <td>25</td>\n",
       "      <td>0</td>\n",
       "      <td>196000.0</td>\n",
       "      <td>2.5</td>\n",
       "      <td>132</td>\n",
       "      <td>0</td>\n",
       "      <td>0</td>\n",
       "      <td>77</td>\n",
       "      <td>1</td>\n",
       "    </tr>\n",
       "    <tr>\n",
       "      <th>9</th>\n",
       "      <td>59.0</td>\n",
       "      <td>1</td>\n",
       "      <td>280</td>\n",
       "      <td>1</td>\n",
       "      <td>25</td>\n",
       "      <td>1</td>\n",
       "      <td>302000.0</td>\n",
       "      <td>1.0</td>\n",
       "      <td>141</td>\n",
       "      <td>0</td>\n",
       "      <td>0</td>\n",
       "      <td>78</td>\n",
       "      <td>1</td>\n",
       "    </tr>\n",
       "  </tbody>\n",
       "</table>\n",
       "</div>"
      ],
      "text/plain": [
       "    age  anaemia  creatinine_phosphokinase  diabetes  ejection_fraction  \\\n",
       "0  42.0        1                       250         1                 15   \n",
       "1  46.0        0                       168         1                 17   \n",
       "2  65.0        1                       160         1                 20   \n",
       "3  53.0        1                        91         0                 20   \n",
       "4  50.0        1                       582         1                 20   \n",
       "5  70.0        1                       125         0                 25   \n",
       "6  65.0        1                        52         0                 25   \n",
       "7  70.0        0                       161         0                 25   \n",
       "8  60.0        1                        76         1                 25   \n",
       "9  59.0        1                       280         1                 25   \n",
       "\n",
       "   high_blood_pressure  platelets  serum_creatinine  serum_sodium  sex  \\\n",
       "0                    0   213000.0               1.3           136    0   \n",
       "1                    1   271000.0               2.1           124    0   \n",
       "2                    0   327000.0               2.7           116    0   \n",
       "3                    1   418000.0               1.4           139    0   \n",
       "4                    1   279000.0               1.0           134    0   \n",
       "5                    1   237000.0               1.0           140    0   \n",
       "6                    1   276000.0               1.3           137    0   \n",
       "7                    0   244000.0               1.2           142    0   \n",
       "8                    0   196000.0               2.5           132    0   \n",
       "9                    1   302000.0               1.0           141    0   \n",
       "\n",
       "   smoking  time  DEATH_EVENT  \n",
       "0        0    65            1  \n",
       "1        0   100            1  \n",
       "2        0     8            1  \n",
       "3        0    43            1  \n",
       "4        0   186            0  \n",
       "5        0    15            1  \n",
       "6        0    16            0  \n",
       "7        0    66            1  \n",
       "8        0    77            1  \n",
       "9        0    78            1  "
      ]
     },
     "execution_count": 2,
     "metadata": {},
     "output_type": "execute_result"
    }
   ],
   "source": [
    "# Read File CSV Dataset yang sudah di download dari Google Cloud\n",
    "df = pd.read_csv('h8dsft_P1G3_andrewsunanda.csv')\n",
    "# Tampilkan 10 data pertama\n",
    "df.head(10)"
   ]
  },
  {
   "cell_type": "code",
   "execution_count": 3,
   "metadata": {},
   "outputs": [
    {
     "data": {
      "text/html": [
       "<div>\n",
       "<style scoped>\n",
       "    .dataframe tbody tr th:only-of-type {\n",
       "        vertical-align: middle;\n",
       "    }\n",
       "\n",
       "    .dataframe tbody tr th {\n",
       "        vertical-align: top;\n",
       "    }\n",
       "\n",
       "    .dataframe thead th {\n",
       "        text-align: right;\n",
       "    }\n",
       "</style>\n",
       "<table border=\"1\" class=\"dataframe\">\n",
       "  <thead>\n",
       "    <tr style=\"text-align: right;\">\n",
       "      <th></th>\n",
       "      <th>age</th>\n",
       "      <th>anaemia</th>\n",
       "      <th>creatinine_phosphokinase</th>\n",
       "      <th>diabetes</th>\n",
       "      <th>ejection_fraction</th>\n",
       "      <th>high_blood_pressure</th>\n",
       "      <th>platelets</th>\n",
       "      <th>serum_creatinine</th>\n",
       "      <th>serum_sodium</th>\n",
       "      <th>sex</th>\n",
       "      <th>smoking</th>\n",
       "      <th>time</th>\n",
       "      <th>DEATH_EVENT</th>\n",
       "    </tr>\n",
       "  </thead>\n",
       "  <tbody>\n",
       "    <tr>\n",
       "      <th>289</th>\n",
       "      <td>64.0</td>\n",
       "      <td>0</td>\n",
       "      <td>1610</td>\n",
       "      <td>0</td>\n",
       "      <td>60</td>\n",
       "      <td>0</td>\n",
       "      <td>242000.00</td>\n",
       "      <td>1.0</td>\n",
       "      <td>137</td>\n",
       "      <td>1</td>\n",
       "      <td>0</td>\n",
       "      <td>113</td>\n",
       "      <td>0</td>\n",
       "    </tr>\n",
       "    <tr>\n",
       "      <th>290</th>\n",
       "      <td>62.0</td>\n",
       "      <td>0</td>\n",
       "      <td>30</td>\n",
       "      <td>1</td>\n",
       "      <td>60</td>\n",
       "      <td>1</td>\n",
       "      <td>244000.00</td>\n",
       "      <td>0.9</td>\n",
       "      <td>139</td>\n",
       "      <td>1</td>\n",
       "      <td>0</td>\n",
       "      <td>117</td>\n",
       "      <td>0</td>\n",
       "    </tr>\n",
       "    <tr>\n",
       "      <th>291</th>\n",
       "      <td>53.0</td>\n",
       "      <td>0</td>\n",
       "      <td>196</td>\n",
       "      <td>0</td>\n",
       "      <td>60</td>\n",
       "      <td>0</td>\n",
       "      <td>220000.00</td>\n",
       "      <td>0.7</td>\n",
       "      <td>133</td>\n",
       "      <td>1</td>\n",
       "      <td>1</td>\n",
       "      <td>134</td>\n",
       "      <td>0</td>\n",
       "    </tr>\n",
       "    <tr>\n",
       "      <th>292</th>\n",
       "      <td>70.0</td>\n",
       "      <td>1</td>\n",
       "      <td>171</td>\n",
       "      <td>0</td>\n",
       "      <td>60</td>\n",
       "      <td>1</td>\n",
       "      <td>176000.00</td>\n",
       "      <td>1.1</td>\n",
       "      <td>145</td>\n",
       "      <td>1</td>\n",
       "      <td>1</td>\n",
       "      <td>146</td>\n",
       "      <td>0</td>\n",
       "    </tr>\n",
       "    <tr>\n",
       "      <th>293</th>\n",
       "      <td>60.0</td>\n",
       "      <td>1</td>\n",
       "      <td>95</td>\n",
       "      <td>0</td>\n",
       "      <td>60</td>\n",
       "      <td>0</td>\n",
       "      <td>337000.00</td>\n",
       "      <td>1.0</td>\n",
       "      <td>138</td>\n",
       "      <td>1</td>\n",
       "      <td>1</td>\n",
       "      <td>146</td>\n",
       "      <td>0</td>\n",
       "    </tr>\n",
       "    <tr>\n",
       "      <th>294</th>\n",
       "      <td>63.0</td>\n",
       "      <td>1</td>\n",
       "      <td>122</td>\n",
       "      <td>1</td>\n",
       "      <td>60</td>\n",
       "      <td>0</td>\n",
       "      <td>267000.00</td>\n",
       "      <td>1.2</td>\n",
       "      <td>145</td>\n",
       "      <td>1</td>\n",
       "      <td>0</td>\n",
       "      <td>147</td>\n",
       "      <td>0</td>\n",
       "    </tr>\n",
       "    <tr>\n",
       "      <th>295</th>\n",
       "      <td>45.0</td>\n",
       "      <td>0</td>\n",
       "      <td>308</td>\n",
       "      <td>1</td>\n",
       "      <td>60</td>\n",
       "      <td>1</td>\n",
       "      <td>377000.00</td>\n",
       "      <td>1.0</td>\n",
       "      <td>136</td>\n",
       "      <td>1</td>\n",
       "      <td>0</td>\n",
       "      <td>186</td>\n",
       "      <td>0</td>\n",
       "    </tr>\n",
       "    <tr>\n",
       "      <th>296</th>\n",
       "      <td>70.0</td>\n",
       "      <td>0</td>\n",
       "      <td>97</td>\n",
       "      <td>0</td>\n",
       "      <td>60</td>\n",
       "      <td>1</td>\n",
       "      <td>220000.00</td>\n",
       "      <td>0.9</td>\n",
       "      <td>138</td>\n",
       "      <td>1</td>\n",
       "      <td>0</td>\n",
       "      <td>186</td>\n",
       "      <td>0</td>\n",
       "    </tr>\n",
       "    <tr>\n",
       "      <th>297</th>\n",
       "      <td>53.0</td>\n",
       "      <td>1</td>\n",
       "      <td>446</td>\n",
       "      <td>0</td>\n",
       "      <td>60</td>\n",
       "      <td>1</td>\n",
       "      <td>263358.03</td>\n",
       "      <td>1.0</td>\n",
       "      <td>139</td>\n",
       "      <td>1</td>\n",
       "      <td>0</td>\n",
       "      <td>215</td>\n",
       "      <td>0</td>\n",
       "    </tr>\n",
       "    <tr>\n",
       "      <th>298</th>\n",
       "      <td>50.0</td>\n",
       "      <td>0</td>\n",
       "      <td>582</td>\n",
       "      <td>0</td>\n",
       "      <td>62</td>\n",
       "      <td>1</td>\n",
       "      <td>147000.00</td>\n",
       "      <td>0.8</td>\n",
       "      <td>140</td>\n",
       "      <td>1</td>\n",
       "      <td>1</td>\n",
       "      <td>192</td>\n",
       "      <td>0</td>\n",
       "    </tr>\n",
       "  </tbody>\n",
       "</table>\n",
       "</div>"
      ],
      "text/plain": [
       "      age  anaemia  creatinine_phosphokinase  diabetes  ejection_fraction  \\\n",
       "289  64.0        0                      1610         0                 60   \n",
       "290  62.0        0                        30         1                 60   \n",
       "291  53.0        0                       196         0                 60   \n",
       "292  70.0        1                       171         0                 60   \n",
       "293  60.0        1                        95         0                 60   \n",
       "294  63.0        1                       122         1                 60   \n",
       "295  45.0        0                       308         1                 60   \n",
       "296  70.0        0                        97         0                 60   \n",
       "297  53.0        1                       446         0                 60   \n",
       "298  50.0        0                       582         0                 62   \n",
       "\n",
       "     high_blood_pressure  platelets  serum_creatinine  serum_sodium  sex  \\\n",
       "289                    0  242000.00               1.0           137    1   \n",
       "290                    1  244000.00               0.9           139    1   \n",
       "291                    0  220000.00               0.7           133    1   \n",
       "292                    1  176000.00               1.1           145    1   \n",
       "293                    0  337000.00               1.0           138    1   \n",
       "294                    0  267000.00               1.2           145    1   \n",
       "295                    1  377000.00               1.0           136    1   \n",
       "296                    1  220000.00               0.9           138    1   \n",
       "297                    1  263358.03               1.0           139    1   \n",
       "298                    1  147000.00               0.8           140    1   \n",
       "\n",
       "     smoking  time  DEATH_EVENT  \n",
       "289        0   113            0  \n",
       "290        0   117            0  \n",
       "291        1   134            0  \n",
       "292        1   146            0  \n",
       "293        1   146            0  \n",
       "294        0   147            0  \n",
       "295        0   186            0  \n",
       "296        0   186            0  \n",
       "297        0   215            0  \n",
       "298        1   192            0  "
      ]
     },
     "execution_count": 3,
     "metadata": {},
     "output_type": "execute_result"
    }
   ],
   "source": [
    "df.tail(10)"
   ]
  },
  {
   "cell_type": "code",
   "execution_count": 4,
   "metadata": {},
   "outputs": [
    {
     "name": "stdout",
     "output_type": "stream",
     "text": [
      "<class 'pandas.core.frame.DataFrame'>\n",
      "RangeIndex: 299 entries, 0 to 298\n",
      "Data columns (total 13 columns):\n",
      " #   Column                    Non-Null Count  Dtype  \n",
      "---  ------                    --------------  -----  \n",
      " 0   age                       299 non-null    float64\n",
      " 1   anaemia                   299 non-null    int64  \n",
      " 2   creatinine_phosphokinase  299 non-null    int64  \n",
      " 3   diabetes                  299 non-null    int64  \n",
      " 4   ejection_fraction         299 non-null    int64  \n",
      " 5   high_blood_pressure       299 non-null    int64  \n",
      " 6   platelets                 299 non-null    float64\n",
      " 7   serum_creatinine          299 non-null    float64\n",
      " 8   serum_sodium              299 non-null    int64  \n",
      " 9   sex                       299 non-null    int64  \n",
      " 10  smoking                   299 non-null    int64  \n",
      " 11  time                      299 non-null    int64  \n",
      " 12  DEATH_EVENT               299 non-null    int64  \n",
      "dtypes: float64(3), int64(10)\n",
      "memory usage: 30.5 KB\n"
     ]
    }
   ],
   "source": [
    "# Tampilkan Info dari dataset\n",
    "df.info()"
   ]
  },
  {
   "cell_type": "code",
   "execution_count": 5,
   "metadata": {},
   "outputs": [],
   "source": [
    "# Rename nama column agar lebih mudah digunakan\n",
    "\n",
    "df = df.rename(columns={'anaemia': 'anemia','creatinine_phosphokinase': 'cpk', 'high_blood_pressure': 'hypertension', 'DEATH_EVENT': 'death'})"
   ]
  },
  {
   "attachments": {},
   "cell_type": "markdown",
   "metadata": {},
   "source": [
    "Berikut ini adalah list column yang ada dalam dataset ini\n",
    "\n",
    "Header | Definition | Keys\n",
    "---|---|---\n",
    "`age` | Age (in years) |\n",
    "`anaemia` | Decrease of red blood cells | 0 = No, 1 = Yes\n",
    "`cpk` | Level of the CPK enzyme in the blood (mcg/L) |\n",
    "`diabetes` | If the patient has diabetes | 0 = No, 1 = Yes\n",
    "`ejection_fraction` | Percentage of blood leaving the heart at each contraction (percentage) |\n",
    "`hypertension` | If the patient has hypertension | 0 = No, 1 = Yes\n",
    "`platelets` | Platelets in the blood (kiloplatelets/mL) |\n",
    "`serum_creatinine` | Level of serum creatinine in the blood (mg/dL)\n",
    "`serum_sodium` | Level of serum sodium in the blood (mEq/L)\n",
    "`sex` | Gender | 0 = Female, 1 = Male\n",
    "`smoking` | If the patient smokes or not | 0 = No, 1 = Yes\n",
    "`time` | Follow-up period (in days) |\n",
    "`death` | If the patient deceased during the follow-up period | 0 = No, 1 = Yes"
   ]
  },
  {
   "attachments": {},
   "cell_type": "markdown",
   "metadata": {},
   "source": [
    "## 5. Exploratory Data Analysis (EDA)"
   ]
  },
  {
   "attachments": {},
   "cell_type": "markdown",
   "metadata": {},
   "source": [
    "### Cek Missing Values dan Duplikasi Data"
   ]
  },
  {
   "cell_type": "code",
   "execution_count": 6,
   "metadata": {},
   "outputs": [],
   "source": [
    "# Copy ke Variable Baru\n",
    "\n",
    "data = df.copy()"
   ]
  },
  {
   "cell_type": "code",
   "execution_count": 7,
   "metadata": {},
   "outputs": [
    {
     "data": {
      "text/plain": [
       "age                  0\n",
       "anemia               0\n",
       "cpk                  0\n",
       "diabetes             0\n",
       "ejection_fraction    0\n",
       "hypertension         0\n",
       "platelets            0\n",
       "serum_creatinine     0\n",
       "serum_sodium         0\n",
       "sex                  0\n",
       "smoking              0\n",
       "time                 0\n",
       "death                0\n",
       "dtype: int64"
      ]
     },
     "execution_count": 7,
     "metadata": {},
     "output_type": "execute_result"
    }
   ],
   "source": [
    "# Cek jika ada missing value\n",
    "data.isna().sum()"
   ]
  },
  {
   "cell_type": "code",
   "execution_count": 8,
   "metadata": {},
   "outputs": [
    {
     "data": {
      "text/plain": [
       "False    299\n",
       "dtype: int64"
      ]
     },
     "execution_count": 8,
     "metadata": {},
     "output_type": "execute_result"
    }
   ],
   "source": [
    "# Cek jika ada data yang terduplikasi\n",
    "data.duplicated().value_counts()"
   ]
  },
  {
   "attachments": {},
   "cell_type": "markdown",
   "metadata": {},
   "source": [
    "Dalam data set ini sudah bersih, sudah tidak ada missing values maupun data yang terduplikasi"
   ]
  },
  {
   "attachments": {},
   "cell_type": "markdown",
   "metadata": {},
   "source": [
    "### Checking Balance or Imbalance Classification"
   ]
  },
  {
   "cell_type": "code",
   "execution_count": 9,
   "metadata": {},
   "outputs": [
    {
     "data": {
      "image/png": "[encoded data removed]",
      "text/plain": [
       "<Figure size 640x480 with 1 Axes>"
      ]
     },
     "metadata": {},
     "output_type": "display_data"
    }
   ],
   "source": [
    "kelas = data['death'].value_counts()\n",
    "\n",
    "kelas.plot(kind='pie',\n",
    "        autopct='%1.1f%%', # untuk membuat persentase  \n",
    "        labels=None,\n",
    "        )\n",
    "\n",
    "plt.title('Perbandingan jumlah target klasifikasi dalam dataset')\n",
    "plt.axis('equal') \n",
    "plt.legend(labels=['Alive','Dead'], loc='upper left')\n",
    "\n",
    "plt.show()"
   ]
  },
  {
   "attachments": {},
   "cell_type": "markdown",
   "metadata": {},
   "source": [
    "Kita lihat dari piechart diatas, dalam data kali ini data termasuk Mild Imbalance, jadi ada baik nya nanti kita lakukan resampling data agar menjadi lebih balance, untuk memastikan model yang kita buat dapat memprediksi dengan lebih akurat"
   ]
  },
  {
   "attachments": {},
   "cell_type": "markdown",
   "metadata": {},
   "source": [
    "### Each Features Correlation with Heart Failure"
   ]
  },
  {
   "cell_type": "code",
   "execution_count": 10,
   "metadata": {},
   "outputs": [
    {
     "data": {
      "text/plain": [
       "<AxesSubplot: >"
      ]
     },
     "execution_count": 10,
     "metadata": {},
     "output_type": "execute_result"
    },
    {
     "data": {
      "image/png": "[encoded data removed]",
      "text/plain": [
       "<Figure size 640x480 with 2 Axes>"
      ]
     },
     "metadata": {},
     "output_type": "display_data"
    }
   ],
   "source": [
    "corr = data.corrwith(data['death'])\n",
    "sns.heatmap(corr.to_frame(), cmap='RdYlGn', annot=True, vmin=-1,vmax=1)"
   ]
  },
  {
   "attachments": {},
   "cell_type": "markdown",
   "metadata": {},
   "source": [
    "- Column Time menonjol kelihatan nya sebagai column nya paling negatively effect Hasil Klasifikasi nya. Asumsi nya berarti semakin lama (tinggi) patient tersebut bertahan setelah menerima bantuan medis, maka kemungkinan lebih besar patient akan hidup\n",
    "- Sebaliknya, yang paling positively effect kematian patient tampak nya adalah column serum_creatinine. Dapat diasumsikan bahwa semakin tinggi serum creatinine ini (diluar batas normal) makan kemungkinan untuk meninggal semakin besar\n",
    "- Kita akan cek lagi asumsi yang telah kita buat di bagian berikut nya"
   ]
  },
  {
   "attachments": {},
   "cell_type": "markdown",
   "metadata": {},
   "source": [
    "### Time"
   ]
  },
  {
   "cell_type": "code",
   "execution_count": 11,
   "metadata": {},
   "outputs": [
    {
     "data": {
      "image/png": "[encoded data removed]",
      "text/plain": [
       "<Figure size 1200x400 with 1 Axes>"
      ]
     },
     "metadata": {},
     "output_type": "display_data"
    }
   ],
   "source": [
    "# Buat Plot\n",
    "plt.figure(figsize=(12, 4))\n",
    "sns.scatterplot(x='time', y='death', data=data)\n",
    "plt.title('Perbandingan Kematian dengan Lama Follow-up period')\n",
    "plt.yticks([0, 1], ['Alive', 'Dead'])\n",
    "plt.show()"
   ]
  },
  {
   "attachments": {},
   "cell_type": "markdown",
   "metadata": {},
   "source": [
    "Bisa kita bilang asumsi yang telah kita buat sebelum nya bisa dibilang somewhat betul, karena bagi orang yang menerima bantuan selama di bawah 50 hari, sangat jarang yang bisa bertahan hidup"
   ]
  },
  {
   "attachments": {},
   "cell_type": "markdown",
   "metadata": {},
   "source": [
    "### Serum Creatinine"
   ]
  },
  {
   "cell_type": "code",
   "execution_count": 12,
   "metadata": {},
   "outputs": [
    {
     "data": {
      "image/png": "[encoded data removed]",
      "text/plain": [
       "<Figure size 1200x400 with 1 Axes>"
      ]
     },
     "metadata": {},
     "output_type": "display_data"
    }
   ],
   "source": [
    "# Buat Plot\n",
    "plt.figure(figsize=(12, 4))\n",
    "sns.scatterplot(x='serum_creatinine', y='death', data=data)\n",
    "plt.title('Perbandingan Kematian dengan Level Serum Creatinine')\n",
    "plt.yticks([0, 1], ['Alive', 'Dead'])\n",
    "plt.show()"
   ]
  },
  {
   "attachments": {},
   "cell_type": "markdown",
   "metadata": {},
   "source": [
    "Asumsi kita mengenai Serum Creatinine ini tidak bisa dibilang sepenuh nya betul karena kalau dilihat di bagian yang Alive, ada juga patient dengan level serum creatinine ini yang sudah sangat tinggi dibandingkan nilai normal orang dewasa, namun masih bisa staying alive setelah menerima bantuan medis\n",
    "\n",
    "Referensi : [Level Normal Serum Creatinine](https://www.wikihow.com/images/thumb/e/ea/Bring-Down-High-Creatinine-Levels-Step-3-Version-3.jpg/v4-460px-Bring-Down-High-Creatinine-Levels-Step-3-Version-3.jpg.webp)"
   ]
  },
  {
   "attachments": {},
   "cell_type": "markdown",
   "metadata": {},
   "source": [
    "### Hypertension and Anemia"
   ]
  },
  {
   "attachments": {},
   "cell_type": "markdown",
   "metadata": {},
   "source": [
    "Setelah melakukan searching di google, saya menemukan suatu [sumber](https://www.alodokter.com/gagal-jantung) dimana  disana menyatakan bahwa Gagal Jantung ini dapat disebabkan oleh Anemia dan Hypertensi. Maka saya akan coba cek apakah dalam dataset ini Anemia dan Hypertensi ini sangat mempengaruhi outcome nya"
   ]
  },
  {
   "cell_type": "code",
   "execution_count": 13,
   "metadata": {},
   "outputs": [
    {
     "data": {
      "text/html": [
       "<div>\n",
       "<style scoped>\n",
       "    .dataframe tbody tr th:only-of-type {\n",
       "        vertical-align: middle;\n",
       "    }\n",
       "\n",
       "    .dataframe tbody tr th {\n",
       "        vertical-align: top;\n",
       "    }\n",
       "\n",
       "    .dataframe thead th {\n",
       "        text-align: right;\n",
       "    }\n",
       "</style>\n",
       "<table border=\"1\" class=\"dataframe\">\n",
       "  <thead>\n",
       "    <tr style=\"text-align: right;\">\n",
       "      <th></th>\n",
       "      <th>hypertension</th>\n",
       "      <th>anemia</th>\n",
       "      <th>death</th>\n",
       "      <th>count</th>\n",
       "      <th>category</th>\n",
       "    </tr>\n",
       "  </thead>\n",
       "  <tbody>\n",
       "    <tr>\n",
       "      <th>0</th>\n",
       "      <td>0</td>\n",
       "      <td>0</td>\n",
       "      <td>0</td>\n",
       "      <td>83</td>\n",
       "      <td>0-0</td>\n",
       "    </tr>\n",
       "    <tr>\n",
       "      <th>1</th>\n",
       "      <td>0</td>\n",
       "      <td>0</td>\n",
       "      <td>1</td>\n",
       "      <td>30</td>\n",
       "      <td>0-0</td>\n",
       "    </tr>\n",
       "    <tr>\n",
       "      <th>2</th>\n",
       "      <td>0</td>\n",
       "      <td>1</td>\n",
       "      <td>0</td>\n",
       "      <td>54</td>\n",
       "      <td>0-1</td>\n",
       "    </tr>\n",
       "    <tr>\n",
       "      <th>3</th>\n",
       "      <td>0</td>\n",
       "      <td>1</td>\n",
       "      <td>1</td>\n",
       "      <td>27</td>\n",
       "      <td>0-1</td>\n",
       "    </tr>\n",
       "    <tr>\n",
       "      <th>4</th>\n",
       "      <td>1</td>\n",
       "      <td>0</td>\n",
       "      <td>0</td>\n",
       "      <td>37</td>\n",
       "      <td>1-0</td>\n",
       "    </tr>\n",
       "    <tr>\n",
       "      <th>5</th>\n",
       "      <td>1</td>\n",
       "      <td>0</td>\n",
       "      <td>1</td>\n",
       "      <td>20</td>\n",
       "      <td>1-0</td>\n",
       "    </tr>\n",
       "    <tr>\n",
       "      <th>6</th>\n",
       "      <td>1</td>\n",
       "      <td>1</td>\n",
       "      <td>0</td>\n",
       "      <td>29</td>\n",
       "      <td>1-1</td>\n",
       "    </tr>\n",
       "    <tr>\n",
       "      <th>7</th>\n",
       "      <td>1</td>\n",
       "      <td>1</td>\n",
       "      <td>1</td>\n",
       "      <td>19</td>\n",
       "      <td>1-1</td>\n",
       "    </tr>\n",
       "  </tbody>\n",
       "</table>\n",
       "</div>"
      ],
      "text/plain": [
       "   hypertension  anemia  death  count category\n",
       "0             0       0      0     83      0-0\n",
       "1             0       0      1     30      0-0\n",
       "2             0       1      0     54      0-1\n",
       "3             0       1      1     27      0-1\n",
       "4             1       0      0     37      1-0\n",
       "5             1       0      1     20      1-0\n",
       "6             1       1      0     29      1-1\n",
       "7             1       1      1     19      1-1"
      ]
     },
     "execution_count": 13,
     "metadata": {},
     "output_type": "execute_result"
    }
   ],
   "source": [
    "# Ubah menjadi dataframe terpisah untuk di buat menjadi plot\n",
    "test = data.groupby(['hypertension','anemia', 'death']).size().reset_index(name='count')\n",
    "test['category'] = test['hypertension'].astype(str) + '-' + test['anemia'].astype(str)\n",
    "test"
   ]
  },
  {
   "cell_type": "code",
   "execution_count": 14,
   "metadata": {},
   "outputs": [
    {
     "data": {
      "image/png": "[encoded data removed]",
      "text/plain": [
       "<Figure size 640x480 with 1 Axes>"
      ]
     },
     "metadata": {},
     "output_type": "display_data"
    }
   ],
   "source": [
    "plt.figure()\n",
    "ax = sns.barplot(x='category', y='count', data=test, hue='death', palette='RdBu')\n",
    "plt.title('Amount of patient that alive or dead divided by their medical condition')\n",
    "for i in ax.containers:\n",
    "    ax.bar_label(i,)\n",
    "handles, labels = ax.get_legend_handles_labels()\n",
    "plt.xticks([0, 1, 2, 3], ['None', 'Anemia', 'Hypertension', 'Both'])\n",
    "plt.legend(handles=handles, labels=['Alive','Dead'], loc='upper right')\n",
    "plt.show()"
   ]
  },
  {
   "attachments": {},
   "cell_type": "markdown",
   "metadata": {},
   "source": [
    "Ternyata benar bahwa Hypertensi dan Anemia dapat mempengaruhi gagal jantung, dimana patient yang tidak memiliki kondisi hypertensi dan anemia memiliki 26% kemungkinan meninggal diakibatkan gagal jantung, sedangkan di kategori patient yang menderita kedua  nya memiliki 40% kemungkinan"
   ]
  },
  {
   "attachments": {},
   "cell_type": "markdown",
   "metadata": {},
   "source": [
    "### Platelets"
   ]
  },
  {
   "attachments": {},
   "cell_type": "markdown",
   "metadata": {},
   "source": [
    "Platelets atau trombosit memiliki fungsi penting untuk membantu proses pembekuan darah. Range level normal adalah antara 150k - 450k / mL darah. Jika berlebihan trombosit dapat menyebabkan heart attack dan juga stroke, sedangkan kekurangan membuat pendarahan internal maupun eksternal. Mari kita coba kelompok kan colum platelets ini menjadi category Low, Normal, High\n",
    "\n",
    "Referensi    : [Apa itu Platelets?](https://www.hopkinsmedicine.org/health/conditions-and-diseases/what-are-platelets-and-why-are-they-important)"
   ]
  },
  {
   "cell_type": "code",
   "execution_count": 15,
   "metadata": {},
   "outputs": [],
   "source": [
    "# Buat Column Level Trombosit / Platelets\n",
    "test = data['platelets']\n",
    "trombosit = []\n",
    "for x in test:\n",
    "    if x < 150000:\n",
    "        trombosit.append('Low')\n",
    "    elif x >= 450000:\n",
    "        trombosit.append('High')    \n",
    "    else:\n",
    "        trombosit.append('Normal')\n",
    "data['trombosit'] = trombosit"
   ]
  },
  {
   "cell_type": "code",
   "execution_count": 16,
   "metadata": {},
   "outputs": [
    {
     "data": {
      "image/png": "[encoded data removed]",
      "text/plain": [
       "<Figure size 640x480 with 1 Axes>"
      ]
     },
     "metadata": {},
     "output_type": "display_data"
    }
   ],
   "source": [
    "level = data.groupby(['trombosit', 'death']).size().reset_index(name='count')\n",
    "plt.figure()\n",
    "ax = sns.barplot(x='trombosit', y='count', data=level, hue='death')\n",
    "for i in ax.containers:\n",
    "    ax.bar_label(i,)\n",
    "plt.title('Number of people by their Trombosit Level')\n",
    "handles, labels = ax.get_legend_handles_labels()\n",
    "plt.legend(handles=handles, labels=['Alive','Dead'], loc='upper right')\n",
    "plt.show()"
   ]
  },
  {
   "attachments": {},
   "cell_type": "markdown",
   "metadata": {},
   "source": [
    "Selama level trombosit normal, patient memiliki 30% kemungkinan untuk Gagal Jantung, sedangkan untuk level trombosit yang terlalu tinggi maupun rendah kurang lebih sama di range 38-40%"
   ]
  },
  {
   "attachments": {},
   "cell_type": "markdown",
   "metadata": {},
   "source": [
    "### Smoking"
   ]
  },
  {
   "attachments": {},
   "cell_type": "markdown",
   "metadata": {},
   "source": [
    "Seperti yang kita ketahui, merokok dapat menyebabkan segala macam komplikasi penyakit dan sering menjadi salah satu penyebab kematian terbesar di dunia. Mari kita cek apakah fakta tersebut tergambarkan dalam dataset ini"
   ]
  },
  {
   "cell_type": "code",
   "execution_count": 17,
   "metadata": {},
   "outputs": [
    {
     "data": {
      "image/png": "[encoded data removed]",
      "text/plain": [
       "<Figure size 640x480 with 1 Axes>"
      ]
     },
     "metadata": {},
     "output_type": "display_data"
    }
   ],
   "source": [
    "level = data.groupby(['smoking', 'death']).size().reset_index(name='count')\n",
    "plt.figure()\n",
    "ax = sns.barplot(x='smoking', y='count', data=level, hue='death')\n",
    "for i in ax.containers:\n",
    "    ax.bar_label(i,)\n",
    "plt.title('Number of people by their Smoking Activity')\n",
    "handles, labels = ax.get_legend_handles_labels()\n",
    "plt.legend(handles=handles, labels=['Alive','Dead'], loc='upper right')\n",
    "plt.xticks([0, 1], ['Non Smoker', 'Smoker'])\n",
    "plt.show()"
   ]
  },
  {
   "attachments": {},
   "cell_type": "markdown",
   "metadata": {},
   "source": [
    "Kelihatan nya dama kasus kita kali ini, gagal jantung tidak bisa dibilang disebabkan oleh apakah seseorang merokok atau tidak. KArena di sini persentase nya fatality rate kurang lebih sama bagi Smoker dan Non Smoker disekitar 31-32%"
   ]
  },
  {
   "attachments": {},
   "cell_type": "markdown",
   "metadata": {},
   "source": [
    "## 6. Feature Engineering"
   ]
  },
  {
   "attachments": {},
   "cell_type": "markdown",
   "metadata": {},
   "source": [
    "### Split Between X (Features) and y (Target)"
   ]
  },
  {
   "cell_type": "code",
   "execution_count": 17,
   "metadata": {},
   "outputs": [],
   "source": [
    "X = data.drop(['death'], axis=1)\n",
    "y = data['death']"
   ]
  },
  {
   "attachments": {},
   "cell_type": "markdown",
   "metadata": {},
   "source": [
    "### Split between Train Set and Test Set"
   ]
  },
  {
   "cell_type": "code",
   "execution_count": 18,
   "metadata": {},
   "outputs": [
    {
     "data": {
      "text/html": [
       "<div>\n",
       "<style scoped>\n",
       "    .dataframe tbody tr th:only-of-type {\n",
       "        vertical-align: middle;\n",
       "    }\n",
       "\n",
       "    .dataframe tbody tr th {\n",
       "        vertical-align: top;\n",
       "    }\n",
       "\n",
       "    .dataframe thead th {\n",
       "        text-align: right;\n",
       "    }\n",
       "</style>\n",
       "<table border=\"1\" class=\"dataframe\">\n",
       "  <thead>\n",
       "    <tr style=\"text-align: right;\">\n",
       "      <th></th>\n",
       "      <th>age</th>\n",
       "      <th>anemia</th>\n",
       "      <th>cpk</th>\n",
       "      <th>diabetes</th>\n",
       "      <th>ejection_fraction</th>\n",
       "      <th>hypertension</th>\n",
       "      <th>platelets</th>\n",
       "      <th>serum_creatinine</th>\n",
       "      <th>serum_sodium</th>\n",
       "      <th>sex</th>\n",
       "      <th>smoking</th>\n",
       "      <th>time</th>\n",
       "      <th>trombosit</th>\n",
       "    </tr>\n",
       "  </thead>\n",
       "  <tbody>\n",
       "    <tr>\n",
       "      <th>8</th>\n",
       "      <td>60.0</td>\n",
       "      <td>1</td>\n",
       "      <td>76</td>\n",
       "      <td>1</td>\n",
       "      <td>25</td>\n",
       "      <td>0</td>\n",
       "      <td>196000.00</td>\n",
       "      <td>2.5</td>\n",
       "      <td>132</td>\n",
       "      <td>0</td>\n",
       "      <td>0</td>\n",
       "      <td>77</td>\n",
       "      <td>Normal</td>\n",
       "    </tr>\n",
       "    <tr>\n",
       "      <th>126</th>\n",
       "      <td>45.0</td>\n",
       "      <td>0</td>\n",
       "      <td>7702</td>\n",
       "      <td>1</td>\n",
       "      <td>25</td>\n",
       "      <td>1</td>\n",
       "      <td>390000.00</td>\n",
       "      <td>1.0</td>\n",
       "      <td>139</td>\n",
       "      <td>1</td>\n",
       "      <td>0</td>\n",
       "      <td>60</td>\n",
       "      <td>Normal</td>\n",
       "    </tr>\n",
       "    <tr>\n",
       "      <th>33</th>\n",
       "      <td>50.0</td>\n",
       "      <td>1</td>\n",
       "      <td>2334</td>\n",
       "      <td>1</td>\n",
       "      <td>35</td>\n",
       "      <td>0</td>\n",
       "      <td>75000.00</td>\n",
       "      <td>0.9</td>\n",
       "      <td>142</td>\n",
       "      <td>0</td>\n",
       "      <td>0</td>\n",
       "      <td>126</td>\n",
       "      <td>Low</td>\n",
       "    </tr>\n",
       "    <tr>\n",
       "      <th>291</th>\n",
       "      <td>53.0</td>\n",
       "      <td>0</td>\n",
       "      <td>196</td>\n",
       "      <td>0</td>\n",
       "      <td>60</td>\n",
       "      <td>0</td>\n",
       "      <td>220000.00</td>\n",
       "      <td>0.7</td>\n",
       "      <td>133</td>\n",
       "      <td>1</td>\n",
       "      <td>1</td>\n",
       "      <td>134</td>\n",
       "      <td>Normal</td>\n",
       "    </tr>\n",
       "    <tr>\n",
       "      <th>118</th>\n",
       "      <td>59.0</td>\n",
       "      <td>0</td>\n",
       "      <td>66</td>\n",
       "      <td>1</td>\n",
       "      <td>20</td>\n",
       "      <td>0</td>\n",
       "      <td>70000.00</td>\n",
       "      <td>2.4</td>\n",
       "      <td>134</td>\n",
       "      <td>1</td>\n",
       "      <td>0</td>\n",
       "      <td>135</td>\n",
       "      <td>Low</td>\n",
       "    </tr>\n",
       "    <tr>\n",
       "      <th>...</th>\n",
       "      <td>...</td>\n",
       "      <td>...</td>\n",
       "      <td>...</td>\n",
       "      <td>...</td>\n",
       "      <td>...</td>\n",
       "      <td>...</td>\n",
       "      <td>...</td>\n",
       "      <td>...</td>\n",
       "      <td>...</td>\n",
       "      <td>...</td>\n",
       "      <td>...</td>\n",
       "      <td>...</td>\n",
       "      <td>...</td>\n",
       "    </tr>\n",
       "    <tr>\n",
       "      <th>174</th>\n",
       "      <td>55.0</td>\n",
       "      <td>0</td>\n",
       "      <td>109</td>\n",
       "      <td>0</td>\n",
       "      <td>35</td>\n",
       "      <td>0</td>\n",
       "      <td>254000.00</td>\n",
       "      <td>1.1</td>\n",
       "      <td>139</td>\n",
       "      <td>1</td>\n",
       "      <td>1</td>\n",
       "      <td>60</td>\n",
       "      <td>Normal</td>\n",
       "    </tr>\n",
       "    <tr>\n",
       "      <th>190</th>\n",
       "      <td>60.0</td>\n",
       "      <td>0</td>\n",
       "      <td>1211</td>\n",
       "      <td>1</td>\n",
       "      <td>35</td>\n",
       "      <td>0</td>\n",
       "      <td>263358.03</td>\n",
       "      <td>1.8</td>\n",
       "      <td>113</td>\n",
       "      <td>1</td>\n",
       "      <td>1</td>\n",
       "      <td>186</td>\n",
       "      <td>Normal</td>\n",
       "    </tr>\n",
       "    <tr>\n",
       "      <th>120</th>\n",
       "      <td>45.0</td>\n",
       "      <td>0</td>\n",
       "      <td>582</td>\n",
       "      <td>0</td>\n",
       "      <td>20</td>\n",
       "      <td>1</td>\n",
       "      <td>126000.00</td>\n",
       "      <td>1.6</td>\n",
       "      <td>135</td>\n",
       "      <td>1</td>\n",
       "      <td>0</td>\n",
       "      <td>180</td>\n",
       "      <td>Low</td>\n",
       "    </tr>\n",
       "    <tr>\n",
       "      <th>275</th>\n",
       "      <td>85.0</td>\n",
       "      <td>1</td>\n",
       "      <td>910</td>\n",
       "      <td>0</td>\n",
       "      <td>50</td>\n",
       "      <td>0</td>\n",
       "      <td>235000.00</td>\n",
       "      <td>1.3</td>\n",
       "      <td>134</td>\n",
       "      <td>1</td>\n",
       "      <td>0</td>\n",
       "      <td>121</td>\n",
       "      <td>Normal</td>\n",
       "    </tr>\n",
       "    <tr>\n",
       "      <th>298</th>\n",
       "      <td>50.0</td>\n",
       "      <td>0</td>\n",
       "      <td>582</td>\n",
       "      <td>0</td>\n",
       "      <td>62</td>\n",
       "      <td>1</td>\n",
       "      <td>147000.00</td>\n",
       "      <td>0.8</td>\n",
       "      <td>140</td>\n",
       "      <td>1</td>\n",
       "      <td>1</td>\n",
       "      <td>192</td>\n",
       "      <td>Low</td>\n",
       "    </tr>\n",
       "  </tbody>\n",
       "</table>\n",
       "<p>239 rows × 13 columns</p>\n",
       "</div>"
      ],
      "text/plain": [
       "      age  anemia   cpk  diabetes  ejection_fraction  hypertension  platelets  \\\n",
       "8    60.0       1    76         1                 25             0  196000.00   \n",
       "126  45.0       0  7702         1                 25             1  390000.00   \n",
       "33   50.0       1  2334         1                 35             0   75000.00   \n",
       "291  53.0       0   196         0                 60             0  220000.00   \n",
       "118  59.0       0    66         1                 20             0   70000.00   \n",
       "..    ...     ...   ...       ...                ...           ...        ...   \n",
       "174  55.0       0   109         0                 35             0  254000.00   \n",
       "190  60.0       0  1211         1                 35             0  263358.03   \n",
       "120  45.0       0   582         0                 20             1  126000.00   \n",
       "275  85.0       1   910         0                 50             0  235000.00   \n",
       "298  50.0       0   582         0                 62             1  147000.00   \n",
       "\n",
       "     serum_creatinine  serum_sodium  sex  smoking  time trombosit  \n",
       "8                 2.5           132    0        0    77    Normal  \n",
       "126               1.0           139    1        0    60    Normal  \n",
       "33                0.9           142    0        0   126       Low  \n",
       "291               0.7           133    1        1   134    Normal  \n",
       "118               2.4           134    1        0   135       Low  \n",
       "..                ...           ...  ...      ...   ...       ...  \n",
       "174               1.1           139    1        1    60    Normal  \n",
       "190               1.8           113    1        1   186    Normal  \n",
       "120               1.6           135    1        0   180       Low  \n",
       "275               1.3           134    1        0   121    Normal  \n",
       "298               0.8           140    1        1   192       Low  \n",
       "\n",
       "[239 rows x 13 columns]"
      ]
     },
     "execution_count": 18,
     "metadata": {},
     "output_type": "execute_result"
    }
   ],
   "source": [
    "X_train, X_test, y_train, y_test = train_test_split(X, y, test_size=0.2, random_state=18)\n",
    "X_train"
   ]
  },
  {
   "attachments": {},
   "cell_type": "markdown",
   "metadata": {},
   "source": [
    "### Handling Missing Values & Outliers"
   ]
  },
  {
   "cell_type": "code",
   "execution_count": 19,
   "metadata": {},
   "outputs": [
    {
     "data": {
      "text/plain": [
       "age                  0\n",
       "anemia               0\n",
       "cpk                  0\n",
       "diabetes             0\n",
       "ejection_fraction    0\n",
       "hypertension         0\n",
       "platelets            0\n",
       "serum_creatinine     0\n",
       "serum_sodium         0\n",
       "sex                  0\n",
       "smoking              0\n",
       "time                 0\n",
       "trombosit            0\n",
       "dtype: int64"
      ]
     },
     "execution_count": 19,
     "metadata": {},
     "output_type": "execute_result"
    }
   ],
   "source": [
    "# Cek Missing Values\n",
    "X_train.isnull().sum()"
   ]
  },
  {
   "attachments": {},
   "cell_type": "markdown",
   "metadata": {},
   "source": [
    "Tidak ada missing values, sekarang mau handle outliers untuk data yang numerical. Walaupun semua data nya sudah numerical, ada yang sebenarnya merupakan data categorical yang sudah ter encode dalam bentuknumerical, jadi akan saya pisahkan terlebih dahulu"
   ]
  },
  {
   "cell_type": "code",
   "execution_count": 20,
   "metadata": {},
   "outputs": [
    {
     "name": "stdout",
     "output_type": "stream",
     "text": [
      "Num Columns :  ['age', 'cpk', 'ejection_fraction', 'platelets', 'serum_creatinine', 'serum_sodium', 'time']\n",
      "Cat Columns :  ['anemia', 'diabetes', 'hypertension', 'sex', 'smoking', 'trombosit']\n"
     ]
    }
   ],
   "source": [
    "# Get Numerical Columns and Categorical Columns\n",
    "\n",
    "num_columns = ['age','cpk','ejection_fraction','platelets','serum_creatinine','serum_sodium','time']\n",
    "cat_columns = ['anemia','diabetes', 'hypertension','sex','smoking','trombosit']\n",
    "\n",
    "print('Num Columns : ', num_columns)\n",
    "print('Cat Columns : ', cat_columns)"
   ]
  },
  {
   "cell_type": "code",
   "execution_count": 21,
   "metadata": {},
   "outputs": [],
   "source": [
    "# Buat fungsi untuk buat plot distribusi data dan boxplot untuk melihat outlier\n",
    "def diagnostic_plots(df, variable):\n",
    "    # Define figure size\n",
    "    plt.figure(figsize=(16, 4))\n",
    "\n",
    "    # Histogram\n",
    "    plt.subplot(1, 2, 1)\n",
    "    sns.histplot(df[variable], bins=30)\n",
    "    plt.title('Histogram')\n",
    "\n",
    "    # Boxplot\n",
    "    plt.subplot(1, 2, 2)\n",
    "    sns.boxplot(y=df[variable])\n",
    "    plt.title('Boxplot')\n",
    "\n",
    "    plt.show()"
   ]
  },
  {
   "cell_type": "code",
   "execution_count": 22,
   "metadata": {},
   "outputs": [
    {
     "data": {
      "image/png": "[encoded data removed]",
      "text/plain": [
       "<Figure size 1600x400 with 2 Axes>"
      ]
     },
     "metadata": {},
     "output_type": "display_data"
    },
    {
     "data": {
      "image/png": "[encoded data removed]",
      "text/plain": [
       "<Figure size 1600x400 with 2 Axes>"
      ]
     },
     "metadata": {},
     "output_type": "display_data"
    },
    {
     "data": {
      "image/png": "[encoded data removed]",
      "text/plain": [
       "<Figure size 1600x400 with 2 Axes>"
      ]
     },
     "metadata": {},
     "output_type": "display_data"
    },
    {
     "data": {
      "image/png": "[encoded data removed]",
      "text/plain": [
       "<Figure size 1600x400 with 2 Axes>"
      ]
     },
     "metadata": {},
     "output_type": "display_data"
    },
    {
     "data": {
      "image/png": "[encoded data removed]",
      "text/plain": [
       "<Figure size 1600x400 with 2 Axes>"
      ]
     },
     "metadata": {},
     "output_type": "display_data"
    },
    {
     "data": {
      "image/png": "[encoded data removed]",
      "text/plain": [
       "<Figure size 1600x400 with 2 Axes>"
      ]
     },
     "metadata": {},
     "output_type": "display_data"
    },
    {
     "data": {
      "image/png": "[encoded data removed]",
      "text/plain": [
       "<Figure size 1600x400 with 2 Axes>"
      ]
     },
     "metadata": {},
     "output_type": "display_data"
    },
    {
     "name": "stdout",
     "output_type": "stream",
     "text": [
      "\n",
      "Skewness Value :  age                  0.419578\n",
      "cpk                  4.279122\n",
      "ejection_fraction    0.465489\n",
      "platelets            1.038185\n",
      "serum_creatinine     4.134526\n",
      "serum_sodium        -1.160380\n",
      "time                 0.125864\n",
      "dtype: float64\n"
     ]
    }
   ],
   "source": [
    "for cek in X_train[num_columns]:\n",
    "    diagnostic_plots(X_train, cek)\n",
    "\n",
    "print('\\nSkewness Value : ', X_train[num_columns].skew())"
   ]
  },
  {
   "attachments": {},
   "cell_type": "markdown",
   "metadata": {},
   "source": [
    "Karena Random Forest tidak sensitif terhadap outliers, maka saya tidak menganggap data- data diatas sebagai outliers karena menurut saya dalam dunia medis, dapat terjadi kejadian dimana angka angka hasil test yang didapatkan memang luar biasa\n",
    "- Kalau kita lihat persebaran data CPK memang sanga dominan di level rendah nya, tetapi saya tidak mengganggap yang tinggi itu outlier juga karena memang CPK yang tinggi dapat menyebabkan heart attack, stroke, brain injury, dll\n",
    "- Ejection Fraction yang dianggap outlier oleh boxplot ini juga malah merupakan ejection fraction yang terbilang sehat di sekitar 80%, dimana memang di bawah 40% baru beresiko menyebabkan gagal jantung\n",
    "\n",
    "Sumber Referensi:\n",
    "\n",
    "- [CPK](https://www.mountsinai.org/health-library/tests/creatine-phosphokinase-test#:~:text=Normal%20Results,per%20liter%20(mcg%2FL))\n",
    "- [Ejection Fraction](https://www.pennmedicine.org/updates/blogs/heart-and-vascular-blog/2022/april/ejection-fraction-what-the-numbers-mean#:~:text=A%20normal%20ejection%20fraction%20is,blood%20and%20may%20be%20failing.)"
   ]
  },
  {
   "attachments": {},
   "cell_type": "markdown",
   "metadata": {},
   "source": [
    "### Features Selection"
   ]
  },
  {
   "cell_type": "code",
   "execution_count": 23,
   "metadata": {},
   "outputs": [
    {
     "data": {
      "text/plain": [
       "Index(['age', 'anemia', 'cpk', 'diabetes', 'ejection_fraction', 'hypertension',\n",
       "       'platelets', 'serum_creatinine', 'serum_sodium', 'sex', 'smoking',\n",
       "       'time', 'trombosit'],\n",
       "      dtype='object')"
      ]
     },
     "execution_count": 23,
     "metadata": {},
     "output_type": "execute_result"
    }
   ],
   "source": [
    "# Display Semua Features\n",
    "X_train.keys()"
   ]
  },
  {
   "attachments": {},
   "cell_type": "markdown",
   "metadata": {},
   "source": [
    "Saya akan pakai semua feature nya yang ada dalam table ini, kecuali column Trombosit yang tadi saya buat sendiri untuk di bagian EDA"
   ]
  },
  {
   "cell_type": "code",
   "execution_count": 24,
   "metadata": {},
   "outputs": [],
   "source": [
    "X_train.drop(['trombosit'], axis=1, inplace=True)\n",
    "X_test.drop(['trombosit'], axis=1, inplace=True)"
   ]
  },
  {
   "attachments": {},
   "cell_type": "markdown",
   "metadata": {},
   "source": [
    "### Split Between Numerical Columns and Categorical Columns"
   ]
  },
  {
   "cell_type": "code",
   "execution_count": 25,
   "metadata": {},
   "outputs": [
    {
     "name": "stdout",
     "output_type": "stream",
     "text": [
      "Num Columns :  ['age', 'cpk', 'ejection_fraction', 'platelets', 'serum_creatinine', 'serum_sodium', 'time']\n",
      "Cat Columns :  ['anemia', 'diabetes', 'hypertension', 'sex', 'smoking']\n"
     ]
    }
   ],
   "source": [
    "# Get Numerical Columns and Categorical Columns\n",
    "\n",
    "num_columns = ['age','cpk','ejection_fraction','platelets','serum_creatinine','serum_sodium','time']\n",
    "cat_columns = ['anemia','diabetes', 'hypertension','sex','smoking']\n",
    "\n",
    "print('Num Columns : ', num_columns)\n",
    "print('Cat Columns : ', cat_columns)"
   ]
  },
  {
   "cell_type": "code",
   "execution_count": 26,
   "metadata": {},
   "outputs": [
    {
     "data": {
      "text/html": [
       "<div>\n",
       "<style scoped>\n",
       "    .dataframe tbody tr th:only-of-type {\n",
       "        vertical-align: middle;\n",
       "    }\n",
       "\n",
       "    .dataframe tbody tr th {\n",
       "        vertical-align: top;\n",
       "    }\n",
       "\n",
       "    .dataframe thead th {\n",
       "        text-align: right;\n",
       "    }\n",
       "</style>\n",
       "<table border=\"1\" class=\"dataframe\">\n",
       "  <thead>\n",
       "    <tr style=\"text-align: right;\">\n",
       "      <th></th>\n",
       "      <th>age</th>\n",
       "      <th>cpk</th>\n",
       "      <th>ejection_fraction</th>\n",
       "      <th>platelets</th>\n",
       "      <th>serum_creatinine</th>\n",
       "      <th>serum_sodium</th>\n",
       "      <th>time</th>\n",
       "    </tr>\n",
       "  </thead>\n",
       "  <tbody>\n",
       "    <tr>\n",
       "      <th>8</th>\n",
       "      <td>60.0</td>\n",
       "      <td>76</td>\n",
       "      <td>25</td>\n",
       "      <td>196000.00</td>\n",
       "      <td>2.5</td>\n",
       "      <td>132</td>\n",
       "      <td>77</td>\n",
       "    </tr>\n",
       "    <tr>\n",
       "      <th>126</th>\n",
       "      <td>45.0</td>\n",
       "      <td>7702</td>\n",
       "      <td>25</td>\n",
       "      <td>390000.00</td>\n",
       "      <td>1.0</td>\n",
       "      <td>139</td>\n",
       "      <td>60</td>\n",
       "    </tr>\n",
       "    <tr>\n",
       "      <th>33</th>\n",
       "      <td>50.0</td>\n",
       "      <td>2334</td>\n",
       "      <td>35</td>\n",
       "      <td>75000.00</td>\n",
       "      <td>0.9</td>\n",
       "      <td>142</td>\n",
       "      <td>126</td>\n",
       "    </tr>\n",
       "    <tr>\n",
       "      <th>291</th>\n",
       "      <td>53.0</td>\n",
       "      <td>196</td>\n",
       "      <td>60</td>\n",
       "      <td>220000.00</td>\n",
       "      <td>0.7</td>\n",
       "      <td>133</td>\n",
       "      <td>134</td>\n",
       "    </tr>\n",
       "    <tr>\n",
       "      <th>118</th>\n",
       "      <td>59.0</td>\n",
       "      <td>66</td>\n",
       "      <td>20</td>\n",
       "      <td>70000.00</td>\n",
       "      <td>2.4</td>\n",
       "      <td>134</td>\n",
       "      <td>135</td>\n",
       "    </tr>\n",
       "    <tr>\n",
       "      <th>...</th>\n",
       "      <td>...</td>\n",
       "      <td>...</td>\n",
       "      <td>...</td>\n",
       "      <td>...</td>\n",
       "      <td>...</td>\n",
       "      <td>...</td>\n",
       "      <td>...</td>\n",
       "    </tr>\n",
       "    <tr>\n",
       "      <th>174</th>\n",
       "      <td>55.0</td>\n",
       "      <td>109</td>\n",
       "      <td>35</td>\n",
       "      <td>254000.00</td>\n",
       "      <td>1.1</td>\n",
       "      <td>139</td>\n",
       "      <td>60</td>\n",
       "    </tr>\n",
       "    <tr>\n",
       "      <th>190</th>\n",
       "      <td>60.0</td>\n",
       "      <td>1211</td>\n",
       "      <td>35</td>\n",
       "      <td>263358.03</td>\n",
       "      <td>1.8</td>\n",
       "      <td>113</td>\n",
       "      <td>186</td>\n",
       "    </tr>\n",
       "    <tr>\n",
       "      <th>120</th>\n",
       "      <td>45.0</td>\n",
       "      <td>582</td>\n",
       "      <td>20</td>\n",
       "      <td>126000.00</td>\n",
       "      <td>1.6</td>\n",
       "      <td>135</td>\n",
       "      <td>180</td>\n",
       "    </tr>\n",
       "    <tr>\n",
       "      <th>275</th>\n",
       "      <td>85.0</td>\n",
       "      <td>910</td>\n",
       "      <td>50</td>\n",
       "      <td>235000.00</td>\n",
       "      <td>1.3</td>\n",
       "      <td>134</td>\n",
       "      <td>121</td>\n",
       "    </tr>\n",
       "    <tr>\n",
       "      <th>298</th>\n",
       "      <td>50.0</td>\n",
       "      <td>582</td>\n",
       "      <td>62</td>\n",
       "      <td>147000.00</td>\n",
       "      <td>0.8</td>\n",
       "      <td>140</td>\n",
       "      <td>192</td>\n",
       "    </tr>\n",
       "  </tbody>\n",
       "</table>\n",
       "<p>239 rows × 7 columns</p>\n",
       "</div>"
      ],
      "text/plain": [
       "      age   cpk  ejection_fraction  platelets  serum_creatinine  serum_sodium  \\\n",
       "8    60.0    76                 25  196000.00               2.5           132   \n",
       "126  45.0  7702                 25  390000.00               1.0           139   \n",
       "33   50.0  2334                 35   75000.00               0.9           142   \n",
       "291  53.0   196                 60  220000.00               0.7           133   \n",
       "118  59.0    66                 20   70000.00               2.4           134   \n",
       "..    ...   ...                ...        ...               ...           ...   \n",
       "174  55.0   109                 35  254000.00               1.1           139   \n",
       "190  60.0  1211                 35  263358.03               1.8           113   \n",
       "120  45.0   582                 20  126000.00               1.6           135   \n",
       "275  85.0   910                 50  235000.00               1.3           134   \n",
       "298  50.0   582                 62  147000.00               0.8           140   \n",
       "\n",
       "     time  \n",
       "8      77  \n",
       "126    60  \n",
       "33    126  \n",
       "291   134  \n",
       "118   135  \n",
       "..    ...  \n",
       "174    60  \n",
       "190   186  \n",
       "120   180  \n",
       "275   121  \n",
       "298   192  \n",
       "\n",
       "[239 rows x 7 columns]"
      ]
     },
     "execution_count": 26,
     "metadata": {},
     "output_type": "execute_result"
    }
   ],
   "source": [
    "# Split Train-Set and Test-Set based on Column Types\n",
    "\n",
    "X_train_num = X_train[num_columns]\n",
    "X_test_num = X_test[num_columns]\n",
    "\n",
    "X_train_cat = X_train[cat_columns]\n",
    "X_test_cat = X_test[cat_columns]\n",
    "\n",
    "X_train_num"
   ]
  },
  {
   "attachments": {},
   "cell_type": "markdown",
   "metadata": {},
   "source": [
    "### Feature Scaling"
   ]
  },
  {
   "cell_type": "code",
   "execution_count": 27,
   "metadata": {},
   "outputs": [
    {
     "data": {
      "text/plain": [
       "array([[0.37037037, 0.00676193, 0.16666667, ..., 0.21590909, 0.54285714,\n",
       "        0.26449275],\n",
       "       [0.09259259, 0.97971421, 0.16666667, ..., 0.04545455, 0.74285714,\n",
       "        0.20289855],\n",
       "       [0.18518519, 0.29484562, 0.31818182, ..., 0.03409091, 0.82857143,\n",
       "        0.44202899],\n",
       "       ...,\n",
       "       [0.09259259, 0.07131921, 0.09090909, ..., 0.11363636, 0.62857143,\n",
       "        0.63768116],\n",
       "       [0.83333333, 0.11316662, 0.54545455, ..., 0.07954545, 0.6       ,\n",
       "        0.42391304],\n",
       "       [0.18518519, 0.07131921, 0.72727273, ..., 0.02272727, 0.77142857,\n",
       "        0.68115942]])"
      ]
     },
     "execution_count": 27,
     "metadata": {},
     "output_type": "execute_result"
    }
   ],
   "source": [
    "# Feature Scaling using MinMaxScaler karena data tidak ter distribusi normal\n",
    "\n",
    "scaler = MinMaxScaler()\n",
    "scaler.fit(X_train_num)\n",
    "\n",
    "X_train_num_scaled = scaler.transform(X_train_num)\n",
    "X_test_num_scaled = scaler.transform(X_test_num)\n",
    "X_train_num_scaled"
   ]
  },
  {
   "attachments": {},
   "cell_type": "markdown",
   "metadata": {},
   "source": [
    "### Resampling Data for Balance Classification"
   ]
  },
  {
   "attachments": {},
   "cell_type": "markdown",
   "metadata": {},
   "source": [
    "Seperti yang sudah disebutkan sebelumnya, saya akan meng-overscale data minmoritas, dalam hal ini yang outcome nya Meninggal, agar menjadi Balance Classification"
   ]
  },
  {
   "cell_type": "code",
   "execution_count": 28,
   "metadata": {},
   "outputs": [
    {
     "data": {
      "text/html": [
       "<div>\n",
       "<style scoped>\n",
       "    .dataframe tbody tr th:only-of-type {\n",
       "        vertical-align: middle;\n",
       "    }\n",
       "\n",
       "    .dataframe tbody tr th {\n",
       "        vertical-align: top;\n",
       "    }\n",
       "\n",
       "    .dataframe thead th {\n",
       "        text-align: right;\n",
       "    }\n",
       "</style>\n",
       "<table border=\"1\" class=\"dataframe\">\n",
       "  <thead>\n",
       "    <tr style=\"text-align: right;\">\n",
       "      <th></th>\n",
       "      <th>age</th>\n",
       "      <th>cpk</th>\n",
       "      <th>ejection_fraction</th>\n",
       "      <th>platelets</th>\n",
       "      <th>serum_creatinine</th>\n",
       "      <th>serum_sodium</th>\n",
       "      <th>time</th>\n",
       "      <th>anemia</th>\n",
       "      <th>diabetes</th>\n",
       "      <th>hypertension</th>\n",
       "      <th>sex</th>\n",
       "      <th>smoking</th>\n",
       "    </tr>\n",
       "  </thead>\n",
       "  <tbody>\n",
       "    <tr>\n",
       "      <th>0</th>\n",
       "      <td>0.370370</td>\n",
       "      <td>0.006762</td>\n",
       "      <td>0.166667</td>\n",
       "      <td>0.238388</td>\n",
       "      <td>0.215909</td>\n",
       "      <td>0.542857</td>\n",
       "      <td>0.264493</td>\n",
       "      <td>1.0</td>\n",
       "      <td>1.0</td>\n",
       "      <td>0.0</td>\n",
       "      <td>0.0</td>\n",
       "      <td>0.0</td>\n",
       "    </tr>\n",
       "    <tr>\n",
       "      <th>1</th>\n",
       "      <td>0.092593</td>\n",
       "      <td>0.979714</td>\n",
       "      <td>0.166667</td>\n",
       "      <td>0.508997</td>\n",
       "      <td>0.045455</td>\n",
       "      <td>0.742857</td>\n",
       "      <td>0.202899</td>\n",
       "      <td>0.0</td>\n",
       "      <td>1.0</td>\n",
       "      <td>1.0</td>\n",
       "      <td>1.0</td>\n",
       "      <td>0.0</td>\n",
       "    </tr>\n",
       "    <tr>\n",
       "      <th>2</th>\n",
       "      <td>0.185185</td>\n",
       "      <td>0.294846</td>\n",
       "      <td>0.318182</td>\n",
       "      <td>0.069605</td>\n",
       "      <td>0.034091</td>\n",
       "      <td>0.828571</td>\n",
       "      <td>0.442029</td>\n",
       "      <td>1.0</td>\n",
       "      <td>1.0</td>\n",
       "      <td>0.0</td>\n",
       "      <td>0.0</td>\n",
       "      <td>0.0</td>\n",
       "    </tr>\n",
       "    <tr>\n",
       "      <th>3</th>\n",
       "      <td>0.240741</td>\n",
       "      <td>0.022072</td>\n",
       "      <td>0.696970</td>\n",
       "      <td>0.271865</td>\n",
       "      <td>0.011364</td>\n",
       "      <td>0.571429</td>\n",
       "      <td>0.471014</td>\n",
       "      <td>0.0</td>\n",
       "      <td>0.0</td>\n",
       "      <td>0.0</td>\n",
       "      <td>1.0</td>\n",
       "      <td>1.0</td>\n",
       "    </tr>\n",
       "    <tr>\n",
       "      <th>4</th>\n",
       "      <td>0.351852</td>\n",
       "      <td>0.005486</td>\n",
       "      <td>0.090909</td>\n",
       "      <td>0.062631</td>\n",
       "      <td>0.204545</td>\n",
       "      <td>0.600000</td>\n",
       "      <td>0.474638</td>\n",
       "      <td>0.0</td>\n",
       "      <td>1.0</td>\n",
       "      <td>0.0</td>\n",
       "      <td>1.0</td>\n",
       "      <td>0.0</td>\n",
       "    </tr>\n",
       "    <tr>\n",
       "      <th>...</th>\n",
       "      <td>...</td>\n",
       "      <td>...</td>\n",
       "      <td>...</td>\n",
       "      <td>...</td>\n",
       "      <td>...</td>\n",
       "      <td>...</td>\n",
       "      <td>...</td>\n",
       "      <td>...</td>\n",
       "      <td>...</td>\n",
       "      <td>...</td>\n",
       "      <td>...</td>\n",
       "      <td>...</td>\n",
       "    </tr>\n",
       "    <tr>\n",
       "      <th>234</th>\n",
       "      <td>0.277778</td>\n",
       "      <td>0.010972</td>\n",
       "      <td>0.318182</td>\n",
       "      <td>0.319291</td>\n",
       "      <td>0.056818</td>\n",
       "      <td>0.742857</td>\n",
       "      <td>0.202899</td>\n",
       "      <td>0.0</td>\n",
       "      <td>0.0</td>\n",
       "      <td>0.0</td>\n",
       "      <td>1.0</td>\n",
       "      <td>1.0</td>\n",
       "    </tr>\n",
       "    <tr>\n",
       "      <th>235</th>\n",
       "      <td>0.370370</td>\n",
       "      <td>0.151569</td>\n",
       "      <td>0.318182</td>\n",
       "      <td>0.332345</td>\n",
       "      <td>0.136364</td>\n",
       "      <td>0.000000</td>\n",
       "      <td>0.659420</td>\n",
       "      <td>0.0</td>\n",
       "      <td>1.0</td>\n",
       "      <td>0.0</td>\n",
       "      <td>1.0</td>\n",
       "      <td>1.0</td>\n",
       "    </tr>\n",
       "    <tr>\n",
       "      <th>236</th>\n",
       "      <td>0.092593</td>\n",
       "      <td>0.071319</td>\n",
       "      <td>0.090909</td>\n",
       "      <td>0.140745</td>\n",
       "      <td>0.113636</td>\n",
       "      <td>0.628571</td>\n",
       "      <td>0.637681</td>\n",
       "      <td>0.0</td>\n",
       "      <td>0.0</td>\n",
       "      <td>1.0</td>\n",
       "      <td>1.0</td>\n",
       "      <td>0.0</td>\n",
       "    </tr>\n",
       "    <tr>\n",
       "      <th>237</th>\n",
       "      <td>0.833333</td>\n",
       "      <td>0.113167</td>\n",
       "      <td>0.545455</td>\n",
       "      <td>0.292788</td>\n",
       "      <td>0.079545</td>\n",
       "      <td>0.600000</td>\n",
       "      <td>0.423913</td>\n",
       "      <td>1.0</td>\n",
       "      <td>0.0</td>\n",
       "      <td>0.0</td>\n",
       "      <td>1.0</td>\n",
       "      <td>0.0</td>\n",
       "    </tr>\n",
       "    <tr>\n",
       "      <th>238</th>\n",
       "      <td>0.185185</td>\n",
       "      <td>0.071319</td>\n",
       "      <td>0.727273</td>\n",
       "      <td>0.170038</td>\n",
       "      <td>0.022727</td>\n",
       "      <td>0.771429</td>\n",
       "      <td>0.681159</td>\n",
       "      <td>0.0</td>\n",
       "      <td>0.0</td>\n",
       "      <td>1.0</td>\n",
       "      <td>1.0</td>\n",
       "      <td>1.0</td>\n",
       "    </tr>\n",
       "  </tbody>\n",
       "</table>\n",
       "<p>239 rows × 12 columns</p>\n",
       "</div>"
      ],
      "text/plain": [
       "          age       cpk  ejection_fraction  platelets  serum_creatinine  \\\n",
       "0    0.370370  0.006762           0.166667   0.238388          0.215909   \n",
       "1    0.092593  0.979714           0.166667   0.508997          0.045455   \n",
       "2    0.185185  0.294846           0.318182   0.069605          0.034091   \n",
       "3    0.240741  0.022072           0.696970   0.271865          0.011364   \n",
       "4    0.351852  0.005486           0.090909   0.062631          0.204545   \n",
       "..        ...       ...                ...        ...               ...   \n",
       "234  0.277778  0.010972           0.318182   0.319291          0.056818   \n",
       "235  0.370370  0.151569           0.318182   0.332345          0.136364   \n",
       "236  0.092593  0.071319           0.090909   0.140745          0.113636   \n",
       "237  0.833333  0.113167           0.545455   0.292788          0.079545   \n",
       "238  0.185185  0.071319           0.727273   0.170038          0.022727   \n",
       "\n",
       "     serum_sodium      time  anemia  diabetes  hypertension  sex  smoking  \n",
       "0        0.542857  0.264493     1.0       1.0           0.0  0.0      0.0  \n",
       "1        0.742857  0.202899     0.0       1.0           1.0  1.0      0.0  \n",
       "2        0.828571  0.442029     1.0       1.0           0.0  0.0      0.0  \n",
       "3        0.571429  0.471014     0.0       0.0           0.0  1.0      1.0  \n",
       "4        0.600000  0.474638     0.0       1.0           0.0  1.0      0.0  \n",
       "..            ...       ...     ...       ...           ...  ...      ...  \n",
       "234      0.742857  0.202899     0.0       0.0           0.0  1.0      1.0  \n",
       "235      0.000000  0.659420     0.0       1.0           0.0  1.0      1.0  \n",
       "236      0.628571  0.637681     0.0       0.0           1.0  1.0      0.0  \n",
       "237      0.600000  0.423913     1.0       0.0           0.0  1.0      0.0  \n",
       "238      0.771429  0.681159     0.0       0.0           1.0  1.0      1.0  \n",
       "\n",
       "[239 rows x 12 columns]"
      ]
     },
     "execution_count": 28,
     "metadata": {},
     "output_type": "execute_result"
    }
   ],
   "source": [
    "# Merge data numerical yang sudah di scale dengan data categorical\n",
    "cols = np.concatenate([num_columns, cat_columns])\n",
    "X_train_imbalanced = np.concatenate([X_train_num_scaled, X_train_cat], axis=1)\n",
    "X_train_imbalanced_new = pd.DataFrame(data=X_train_imbalanced, columns=cols)\n",
    "X_train_imbalanced_new"
   ]
  },
  {
   "cell_type": "code",
   "execution_count": 29,
   "metadata": {},
   "outputs": [
    {
     "data": {
      "text/plain": [
       "1    164\n",
       "0    164\n",
       "Name: death, dtype: int64"
      ]
     },
     "execution_count": 29,
     "metadata": {},
     "output_type": "execute_result"
    }
   ],
   "source": [
    "# SMOTE-NC\n",
    "\n",
    "smotenc = SMOTENC([7,8,9,10,11], random_state = 18)\n",
    "X_train_balanced, y_train_balanced = smotenc.fit_resample(X_train_imbalanced_new, y_train)\n",
    "y_train_balanced.value_counts()"
   ]
  },
  {
   "cell_type": "code",
   "execution_count": 30,
   "metadata": {},
   "outputs": [],
   "source": [
    "# Kita Split lagi antara Numerical dan Categorical untuk kita Encode di Step berikut nya\n",
    "\n",
    "X_train_balanced_num = X_train_balanced[num_columns]\n",
    "X_train_balanced_cat = X_train_balanced[cat_columns]"
   ]
  },
  {
   "attachments": {},
   "cell_type": "markdown",
   "metadata": {},
   "source": [
    "### Feature Encoding"
   ]
  },
  {
   "cell_type": "code",
   "execution_count": 31,
   "metadata": {},
   "outputs": [
    {
     "data": {
      "text/html": [
       "<div>\n",
       "<style scoped>\n",
       "    .dataframe tbody tr th:only-of-type {\n",
       "        vertical-align: middle;\n",
       "    }\n",
       "\n",
       "    .dataframe tbody tr th {\n",
       "        vertical-align: top;\n",
       "    }\n",
       "\n",
       "    .dataframe thead th {\n",
       "        text-align: right;\n",
       "    }\n",
       "</style>\n",
       "<table border=\"1\" class=\"dataframe\">\n",
       "  <thead>\n",
       "    <tr style=\"text-align: right;\">\n",
       "      <th></th>\n",
       "      <th>anemia</th>\n",
       "      <th>diabetes</th>\n",
       "      <th>hypertension</th>\n",
       "      <th>sex</th>\n",
       "      <th>smoking</th>\n",
       "    </tr>\n",
       "  </thead>\n",
       "  <tbody>\n",
       "    <tr>\n",
       "      <th>0</th>\n",
       "      <td>1.0</td>\n",
       "      <td>1.0</td>\n",
       "      <td>0.0</td>\n",
       "      <td>0.0</td>\n",
       "      <td>0.0</td>\n",
       "    </tr>\n",
       "    <tr>\n",
       "      <th>1</th>\n",
       "      <td>0.0</td>\n",
       "      <td>1.0</td>\n",
       "      <td>1.0</td>\n",
       "      <td>1.0</td>\n",
       "      <td>0.0</td>\n",
       "    </tr>\n",
       "    <tr>\n",
       "      <th>2</th>\n",
       "      <td>1.0</td>\n",
       "      <td>1.0</td>\n",
       "      <td>0.0</td>\n",
       "      <td>0.0</td>\n",
       "      <td>0.0</td>\n",
       "    </tr>\n",
       "    <tr>\n",
       "      <th>3</th>\n",
       "      <td>0.0</td>\n",
       "      <td>0.0</td>\n",
       "      <td>0.0</td>\n",
       "      <td>1.0</td>\n",
       "      <td>1.0</td>\n",
       "    </tr>\n",
       "    <tr>\n",
       "      <th>4</th>\n",
       "      <td>0.0</td>\n",
       "      <td>1.0</td>\n",
       "      <td>0.0</td>\n",
       "      <td>1.0</td>\n",
       "      <td>0.0</td>\n",
       "    </tr>\n",
       "    <tr>\n",
       "      <th>...</th>\n",
       "      <td>...</td>\n",
       "      <td>...</td>\n",
       "      <td>...</td>\n",
       "      <td>...</td>\n",
       "      <td>...</td>\n",
       "    </tr>\n",
       "    <tr>\n",
       "      <th>323</th>\n",
       "      <td>0.0</td>\n",
       "      <td>0.0</td>\n",
       "      <td>0.0</td>\n",
       "      <td>1.0</td>\n",
       "      <td>0.0</td>\n",
       "    </tr>\n",
       "    <tr>\n",
       "      <th>324</th>\n",
       "      <td>1.0</td>\n",
       "      <td>0.0</td>\n",
       "      <td>0.0</td>\n",
       "      <td>1.0</td>\n",
       "      <td>0.0</td>\n",
       "    </tr>\n",
       "    <tr>\n",
       "      <th>325</th>\n",
       "      <td>0.0</td>\n",
       "      <td>0.0</td>\n",
       "      <td>0.0</td>\n",
       "      <td>1.0</td>\n",
       "      <td>0.0</td>\n",
       "    </tr>\n",
       "    <tr>\n",
       "      <th>326</th>\n",
       "      <td>0.0</td>\n",
       "      <td>0.0</td>\n",
       "      <td>0.0</td>\n",
       "      <td>1.0</td>\n",
       "      <td>1.0</td>\n",
       "    </tr>\n",
       "    <tr>\n",
       "      <th>327</th>\n",
       "      <td>1.0</td>\n",
       "      <td>0.0</td>\n",
       "      <td>1.0</td>\n",
       "      <td>1.0</td>\n",
       "      <td>1.0</td>\n",
       "    </tr>\n",
       "  </tbody>\n",
       "</table>\n",
       "<p>328 rows × 5 columns</p>\n",
       "</div>"
      ],
      "text/plain": [
       "     anemia  diabetes  hypertension  sex  smoking\n",
       "0       1.0       1.0           0.0  0.0      0.0\n",
       "1       0.0       1.0           1.0  1.0      0.0\n",
       "2       1.0       1.0           0.0  0.0      0.0\n",
       "3       0.0       0.0           0.0  1.0      1.0\n",
       "4       0.0       1.0           0.0  1.0      0.0\n",
       "..      ...       ...           ...  ...      ...\n",
       "323     0.0       0.0           0.0  1.0      0.0\n",
       "324     1.0       0.0           0.0  1.0      0.0\n",
       "325     0.0       0.0           0.0  1.0      0.0\n",
       "326     0.0       0.0           0.0  1.0      1.0\n",
       "327     1.0       0.0           1.0  1.0      1.0\n",
       "\n",
       "[328 rows x 5 columns]"
      ]
     },
     "execution_count": 31,
     "metadata": {},
     "output_type": "execute_result"
    }
   ],
   "source": [
    "#Display X_train_cat\n",
    "X_train_balanced_cat"
   ]
  },
  {
   "cell_type": "code",
   "execution_count": 32,
   "metadata": {},
   "outputs": [
    {
     "data": {
      "text/plain": [
       "array([[1., 1., 0., 0., 0.],\n",
       "       [0., 1., 1., 1., 0.],\n",
       "       [1., 1., 0., 0., 0.],\n",
       "       ...,\n",
       "       [0., 0., 0., 1., 0.],\n",
       "       [0., 0., 0., 1., 1.],\n",
       "       [1., 0., 1., 1., 1.]])"
      ]
     },
     "execution_count": 32,
     "metadata": {},
     "output_type": "execute_result"
    }
   ],
   "source": [
    "# Encode dengan Ordinal Encoder karena semua binary\n",
    "encoder = OrdinalEncoder()\n",
    "encoder.fit(X_train_balanced_cat)\n",
    "X_train_cat_encoded = encoder.transform(X_train_balanced_cat)\n",
    "X_test_cat_encoded = encoder.transform(X_test_cat)\n",
    "X_train_cat_encoded"
   ]
  },
  {
   "attachments": {},
   "cell_type": "markdown",
   "metadata": {},
   "source": [
    "### Concate between Numerical Columns and Categorical Columns"
   ]
  },
  {
   "cell_type": "code",
   "execution_count": 33,
   "metadata": {},
   "outputs": [
    {
     "data": {
      "text/plain": [
       "array([[3.70370370e-01, 6.76192906e-03, 1.66666667e-01, ...,\n",
       "        0.00000000e+00, 0.00000000e+00, 0.00000000e+00],\n",
       "       [9.25925926e-02, 9.79714213e-01, 1.66666667e-01, ...,\n",
       "        1.00000000e+00, 1.00000000e+00, 0.00000000e+00],\n",
       "       [1.85185185e-01, 2.94845624e-01, 3.18181818e-01, ...,\n",
       "        0.00000000e+00, 0.00000000e+00, 0.00000000e+00],\n",
       "       ...,\n",
       "       [8.37771797e-01, 2.26283503e-04, 4.73328440e-01, ...,\n",
       "        0.00000000e+00, 1.00000000e+00, 0.00000000e+00],\n",
       "       [5.09322317e-01, 2.96183290e-02, 9.09090909e-02, ...,\n",
       "        0.00000000e+00, 1.00000000e+00, 1.00000000e+00],\n",
       "       [5.52674372e-01, 1.86627402e-02, 2.48317572e-01, ...,\n",
       "        1.00000000e+00, 1.00000000e+00, 1.00000000e+00]])"
      ]
     },
     "execution_count": 33,
     "metadata": {},
     "output_type": "execute_result"
    }
   ],
   "source": [
    "# Concate Columns\n",
    "\n",
    "X_train_final = np.concatenate([X_train_balanced_num, X_train_cat_encoded], axis=1)\n",
    "X_test_final = np.concatenate([X_test_num_scaled,X_test_cat_encoded], axis=1)\n",
    "X_train_final"
   ]
  },
  {
   "attachments": {},
   "cell_type": "markdown",
   "metadata": {},
   "source": [
    "## 7. Model Definition"
   ]
  },
  {
   "attachments": {},
   "cell_type": "markdown",
   "metadata": {},
   "source": [
    "Pada project kali ini kita akan meggunakan Random Forest Classifier, karena Random Forest biasa nya memiliki akurasi yang cukup tinggi\n",
    "\n",
    "Kita juga akan pakai model AdaBoost karena AdaBoost biasanya tidak rentan untuk overfit\n",
    "\n",
    "Untuk Evaluasi nya sendiri akan menggunakan Accuracy Score dan False Negativity Rate\n"
   ]
  },
  {
   "cell_type": "code",
   "execution_count": 46,
   "metadata": {},
   "outputs": [],
   "source": [
    "model_rf = RandomForestClassifier()\n",
    "boost = AdaBoostClassifier()"
   ]
  },
  {
   "attachments": {},
   "cell_type": "markdown",
   "metadata": {},
   "source": [
    "## 8. Model Training"
   ]
  },
  {
   "cell_type": "code",
   "execution_count": 35,
   "metadata": {},
   "outputs": [
    {
     "data": {
      "text/html": [
       "<style>#sk-container-id-1 {color: black;background-color: white;}#sk-container-id-1 pre{padding: 0;}#sk-container-id-1 div.sk-toggleable {background-color: white;}#sk-container-id-1 label.sk-toggleable__label {cursor: pointer;display: block;width: 100%;margin-bottom: 0;padding: 0.3em;box-sizing: border-box;text-align: center;}#sk-container-id-1 label.sk-toggleable__label-arrow:before {content: \"▸\";float: left;margin-right: 0.25em;color: #696969;}#sk-container-id-1 label.sk-toggleable__label-arrow:hover:before {color: black;}#sk-container-id-1 div.sk-estimator:hover label.sk-toggleable__label-arrow:before {color: black;}#sk-container-id-1 div.sk-toggleable__content {max-height: 0;max-width: 0;overflow: hidden;text-align: left;background-color: #f0f8ff;}#sk-container-id-1 div.sk-toggleable__content pre {margin: 0.2em;color: black;border-radius: 0.25em;background-color: #f0f8ff;}#sk-container-id-1 input.sk-toggleable__control:checked~div.sk-toggleable__content {max-height: 200px;max-width: 100%;overflow: auto;}#sk-container-id-1 input.sk-toggleable__control:checked~label.sk-toggleable__label-arrow:before {content: \"▾\";}#sk-container-id-1 div.sk-estimator input.sk-toggleable__control:checked~label.sk-toggleable__label {background-color: #d4ebff;}#sk-container-id-1 div.sk-label input.sk-toggleable__control:checked~label.sk-toggleable__label {background-color: #d4ebff;}#sk-container-id-1 input.sk-hidden--visually {border: 0;clip: rect(1px 1px 1px 1px);clip: rect(1px, 1px, 1px, 1px);height: 1px;margin: -1px;overflow: hidden;padding: 0;position: absolute;width: 1px;}#sk-container-id-1 div.sk-estimator {font-family: monospace;background-color: #f0f8ff;border: 1px dotted black;border-radius: 0.25em;box-sizing: border-box;margin-bottom: 0.5em;}#sk-container-id-1 div.sk-estimator:hover {background-color: #d4ebff;}#sk-container-id-1 div.sk-parallel-item::after {content: \"\";width: 100%;border-bottom: 1px solid gray;flex-grow: 1;}#sk-container-id-1 div.sk-label:hover label.sk-toggleable__label {background-color: #d4ebff;}#sk-container-id-1 div.sk-serial::before {content: \"\";position: absolute;border-left: 1px solid gray;box-sizing: border-box;top: 0;bottom: 0;left: 50%;z-index: 0;}#sk-container-id-1 div.sk-serial {display: flex;flex-direction: column;align-items: center;background-color: white;padding-right: 0.2em;padding-left: 0.2em;position: relative;}#sk-container-id-1 div.sk-item {position: relative;z-index: 1;}#sk-container-id-1 div.sk-parallel {display: flex;align-items: stretch;justify-content: center;background-color: white;position: relative;}#sk-container-id-1 div.sk-item::before, #sk-container-id-1 div.sk-parallel-item::before {content: \"\";position: absolute;border-left: 1px solid gray;box-sizing: border-box;top: 0;bottom: 0;left: 50%;z-index: -1;}#sk-container-id-1 div.sk-parallel-item {display: flex;flex-direction: column;z-index: 1;position: relative;background-color: white;}#sk-container-id-1 div.sk-parallel-item:first-child::after {align-self: flex-end;width: 50%;}#sk-container-id-1 div.sk-parallel-item:last-child::after {align-self: flex-start;width: 50%;}#sk-container-id-1 div.sk-parallel-item:only-child::after {width: 0;}#sk-container-id-1 div.sk-dashed-wrapped {border: 1px dashed gray;margin: 0 0.4em 0.5em 0.4em;box-sizing: border-box;padding-bottom: 0.4em;background-color: white;}#sk-container-id-1 div.sk-label label {font-family: monospace;font-weight: bold;display: inline-block;line-height: 1.2em;}#sk-container-id-1 div.sk-label-container {text-align: center;}#sk-container-id-1 div.sk-container {/* jupyter's `normalize.less` sets `[hidden] { display: none; }` but bootstrap.min.css set `[hidden] { display: none !important; }` so we also need the `!important` here to be able to override the default hidden behavior on the sphinx rendered scikit-learn.org. See: https://github.com/scikit-learn/scikit-learn/issues/21755 */display: inline-block !important;position: relative;}#sk-container-id-1 div.sk-text-repr-fallback {display: none;}</style><div id=\"sk-container-id-1\" class=\"sk-top-container\"><div class=\"sk-text-repr-fallback\"><pre>RandomForestClassifier()</pre><b>In a Jupyter environment, please rerun this cell to show the HTML representation or trust the notebook. <br />On GitHub, the HTML representation is unable to render, please try loading this page with nbviewer.org.</b></div><div class=\"sk-container\" hidden><div class=\"sk-item\"><div class=\"sk-estimator sk-toggleable\"><input class=\"sk-toggleable__control sk-hidden--visually\" id=\"sk-estimator-id-1\" type=\"checkbox\" checked><label for=\"sk-estimator-id-1\" class=\"sk-toggleable__label sk-toggleable__label-arrow\">RandomForestClassifier</label><div class=\"sk-toggleable__content\"><pre>RandomForestClassifier()</pre></div></div></div></div></div>"
      ],
      "text/plain": [
       "RandomForestClassifier()"
      ]
     },
     "execution_count": 35,
     "metadata": {},
     "output_type": "execute_result"
    }
   ],
   "source": [
    "model_rf.fit(X_train_final, y_train_balanced)"
   ]
  },
  {
   "cell_type": "code",
   "execution_count": 47,
   "metadata": {},
   "outputs": [
    {
     "data": {
      "text/html": [
       "<style>#sk-container-id-5 {color: black;background-color: white;}#sk-container-id-5 pre{padding: 0;}#sk-container-id-5 div.sk-toggleable {background-color: white;}#sk-container-id-5 label.sk-toggleable__label {cursor: pointer;display: block;width: 100%;margin-bottom: 0;padding: 0.3em;box-sizing: border-box;text-align: center;}#sk-container-id-5 label.sk-toggleable__label-arrow:before {content: \"▸\";float: left;margin-right: 0.25em;color: #696969;}#sk-container-id-5 label.sk-toggleable__label-arrow:hover:before {color: black;}#sk-container-id-5 div.sk-estimator:hover label.sk-toggleable__label-arrow:before {color: black;}#sk-container-id-5 div.sk-toggleable__content {max-height: 0;max-width: 0;overflow: hidden;text-align: left;background-color: #f0f8ff;}#sk-container-id-5 div.sk-toggleable__content pre {margin: 0.2em;color: black;border-radius: 0.25em;background-color: #f0f8ff;}#sk-container-id-5 input.sk-toggleable__control:checked~div.sk-toggleable__content {max-height: 200px;max-width: 100%;overflow: auto;}#sk-container-id-5 input.sk-toggleable__control:checked~label.sk-toggleable__label-arrow:before {content: \"▾\";}#sk-container-id-5 div.sk-estimator input.sk-toggleable__control:checked~label.sk-toggleable__label {background-color: #d4ebff;}#sk-container-id-5 div.sk-label input.sk-toggleable__control:checked~label.sk-toggleable__label {background-color: #d4ebff;}#sk-container-id-5 input.sk-hidden--visually {border: 0;clip: rect(1px 1px 1px 1px);clip: rect(1px, 1px, 1px, 1px);height: 1px;margin: -1px;overflow: hidden;padding: 0;position: absolute;width: 1px;}#sk-container-id-5 div.sk-estimator {font-family: monospace;background-color: #f0f8ff;border: 1px dotted black;border-radius: 0.25em;box-sizing: border-box;margin-bottom: 0.5em;}#sk-container-id-5 div.sk-estimator:hover {background-color: #d4ebff;}#sk-container-id-5 div.sk-parallel-item::after {content: \"\";width: 100%;border-bottom: 1px solid gray;flex-grow: 1;}#sk-container-id-5 div.sk-label:hover label.sk-toggleable__label {background-color: #d4ebff;}#sk-container-id-5 div.sk-serial::before {content: \"\";position: absolute;border-left: 1px solid gray;box-sizing: border-box;top: 0;bottom: 0;left: 50%;z-index: 0;}#sk-container-id-5 div.sk-serial {display: flex;flex-direction: column;align-items: center;background-color: white;padding-right: 0.2em;padding-left: 0.2em;position: relative;}#sk-container-id-5 div.sk-item {position: relative;z-index: 1;}#sk-container-id-5 div.sk-parallel {display: flex;align-items: stretch;justify-content: center;background-color: white;position: relative;}#sk-container-id-5 div.sk-item::before, #sk-container-id-5 div.sk-parallel-item::before {content: \"\";position: absolute;border-left: 1px solid gray;box-sizing: border-box;top: 0;bottom: 0;left: 50%;z-index: -1;}#sk-container-id-5 div.sk-parallel-item {display: flex;flex-direction: column;z-index: 1;position: relative;background-color: white;}#sk-container-id-5 div.sk-parallel-item:first-child::after {align-self: flex-end;width: 50%;}#sk-container-id-5 div.sk-parallel-item:last-child::after {align-self: flex-start;width: 50%;}#sk-container-id-5 div.sk-parallel-item:only-child::after {width: 0;}#sk-container-id-5 div.sk-dashed-wrapped {border: 1px dashed gray;margin: 0 0.4em 0.5em 0.4em;box-sizing: border-box;padding-bottom: 0.4em;background-color: white;}#sk-container-id-5 div.sk-label label {font-family: monospace;font-weight: bold;display: inline-block;line-height: 1.2em;}#sk-container-id-5 div.sk-label-container {text-align: center;}#sk-container-id-5 div.sk-container {/* jupyter's `normalize.less` sets `[hidden] { display: none; }` but bootstrap.min.css set `[hidden] { display: none !important; }` so we also need the `!important` here to be able to override the default hidden behavior on the sphinx rendered scikit-learn.org. See: https://github.com/scikit-learn/scikit-learn/issues/21755 */display: inline-block !important;position: relative;}#sk-container-id-5 div.sk-text-repr-fallback {display: none;}</style><div id=\"sk-container-id-5\" class=\"sk-top-container\"><div class=\"sk-text-repr-fallback\"><pre>AdaBoostClassifier()</pre><b>In a Jupyter environment, please rerun this cell to show the HTML representation or trust the notebook. <br />On GitHub, the HTML representation is unable to render, please try loading this page with nbviewer.org.</b></div><div class=\"sk-container\" hidden><div class=\"sk-item\"><div class=\"sk-estimator sk-toggleable\"><input class=\"sk-toggleable__control sk-hidden--visually\" id=\"sk-estimator-id-9\" type=\"checkbox\" checked><label for=\"sk-estimator-id-9\" class=\"sk-toggleable__label sk-toggleable__label-arrow\">AdaBoostClassifier</label><div class=\"sk-toggleable__content\"><pre>AdaBoostClassifier()</pre></div></div></div></div></div>"
      ],
      "text/plain": [
       "AdaBoostClassifier()"
      ]
     },
     "execution_count": 47,
     "metadata": {},
     "output_type": "execute_result"
    }
   ],
   "source": [
    "boost.fit(X_train_final, y_train_balanced)"
   ]
  },
  {
   "attachments": {},
   "cell_type": "markdown",
   "metadata": {},
   "source": [
    "## 9. Model Evaluation"
   ]
  },
  {
   "attachments": {},
   "cell_type": "markdown",
   "metadata": {},
   "source": [
    "### Evaluasi Random Forest"
   ]
  },
  {
   "cell_type": "code",
   "execution_count": 36,
   "metadata": {},
   "outputs": [
    {
     "name": "stdout",
     "output_type": "stream",
     "text": [
      "Score Train Set \n",
      "\n",
      "Classification Report : \n",
      "               precision    recall  f1-score   support\n",
      "\n",
      "           0       1.00      1.00      1.00       164\n",
      "           1       1.00      1.00      1.00       164\n",
      "\n",
      "    accuracy                           1.00       328\n",
      "   macro avg       1.00      1.00      1.00       328\n",
      "weighted avg       1.00      1.00      1.00       328\n",
      "\n",
      "Score Test Set \n",
      "\n",
      "Classification Report : \n",
      "               precision    recall  f1-score   support\n",
      "\n",
      "           0       0.82      0.85      0.84        39\n",
      "           1       0.70      0.67      0.68        21\n",
      "\n",
      "    accuracy                           0.78        60\n",
      "   macro avg       0.76      0.76      0.76        60\n",
      "weighted avg       0.78      0.78      0.78        60\n",
      "\n"
     ]
    }
   ],
   "source": [
    "# Predict dan Lihat Accuracy Score nya Random Forest\n",
    "\n",
    "y_pred_train = model_rf.predict(X_train_final)\n",
    "y_pred_test = model_rf.predict(X_test_final)\n",
    "\n",
    "# Print Score Train Set\n",
    "\n",
    "print('Score Train Set \\n')\n",
    "print('Classification Report : \\n', classification_report(y_train_balanced, y_pred_train))\n",
    "\n",
    "# Print Score Test Set\n",
    "\n",
    "print('Score Test Set \\n')\n",
    "print('Classification Report : \\n', classification_report(y_test, y_pred_test))\n"
   ]
  },
  {
   "attachments": {},
   "cell_type": "markdown",
   "metadata": {},
   "source": [
    "Untuk memastikan tidak overfit model nya, kita akan cek score train set juga dengan K Cross Validation"
   ]
  },
  {
   "cell_type": "code",
   "execution_count": 37,
   "metadata": {},
   "outputs": [
    {
     "name": "stdout",
     "output_type": "stream",
     "text": [
      "Mean Accuracy :  0.8962121212121212\n",
      "Mean Recall : 0.9275735294117646\n"
     ]
    }
   ],
   "source": [
    "# Cek dengan 10-fold Cross Validation Random Forest\n",
    "score = cross_validate(model_rf, X_train_final, y_train_balanced, cv=10, scoring=['accuracy', 'recall'])\n",
    "print('Mean Accuracy : ', score['test_accuracy'].mean())\n",
    "print('Mean Recall :', score['test_recall'].mean())"
   ]
  },
  {
   "attachments": {},
   "cell_type": "markdown",
   "metadata": {},
   "source": [
    "### Evaluasi AdaBoost"
   ]
  },
  {
   "cell_type": "code",
   "execution_count": 48,
   "metadata": {},
   "outputs": [
    {
     "name": "stdout",
     "output_type": "stream",
     "text": [
      "Score Train Set \n",
      "\n",
      "Classification Report : \n",
      "               precision    recall  f1-score   support\n",
      "\n",
      "           0       0.96      0.97      0.97       164\n",
      "           1       0.97      0.96      0.97       164\n",
      "\n",
      "    accuracy                           0.97       328\n",
      "   macro avg       0.97      0.97      0.97       328\n",
      "weighted avg       0.97      0.97      0.97       328\n",
      "\n",
      "Score Test Set \n",
      "\n",
      "Classification Report : \n",
      "               precision    recall  f1-score   support\n",
      "\n",
      "           0       0.76      0.79      0.77        39\n",
      "           1       0.58      0.52      0.55        21\n",
      "\n",
      "    accuracy                           0.70        60\n",
      "   macro avg       0.67      0.66      0.66        60\n",
      "weighted avg       0.69      0.70      0.70        60\n",
      "\n"
     ]
    }
   ],
   "source": [
    "# Predict dan Lihat Accuracy Score nya AdaBoost\n",
    "\n",
    "y_pred_train = boost.predict(X_train_final)\n",
    "y_pred_test = boost.predict(X_test_final)\n",
    "\n",
    "# Print Score Train Set\n",
    "\n",
    "print('Score Train Set \\n')\n",
    "print('Classification Report : \\n', classification_report(y_train_balanced, y_pred_train))\n",
    "\n",
    "# Print Score Test Set\n",
    "\n",
    "print('Score Test Set \\n')\n",
    "print('Classification Report : \\n', classification_report(y_test, y_pred_test))\n"
   ]
  },
  {
   "attachments": {},
   "cell_type": "markdown",
   "metadata": {},
   "source": [
    "Untuk memastikan tidak overfit model nya, kita akan cek score train set juga dengan K Cross Validation"
   ]
  },
  {
   "cell_type": "code",
   "execution_count": 49,
   "metadata": {},
   "outputs": [
    {
     "name": "stdout",
     "output_type": "stream",
     "text": [
      "Mean Accuracy :  0.869034090909091\n",
      "Mean Recall : 0.8808823529411764\n"
     ]
    }
   ],
   "source": [
    "# Cek dengan 10-fold Cross Validation Random Forest\n",
    "score = cross_validate(boost, X_train_final, y_train_balanced, cv=10, scoring=['accuracy', 'recall'])\n",
    "print('Mean Accuracy : ', score['test_accuracy'].mean())\n",
    "print('Mean Recall :', score['test_recall'].mean())"
   ]
  },
  {
   "attachments": {},
   "cell_type": "markdown",
   "metadata": {},
   "source": [
    "### Hyperparameter Tuning"
   ]
  },
  {
   "attachments": {},
   "cell_type": "markdown",
   "metadata": {},
   "source": [
    "Nilai diatas untuk kedua model masih overfit, marikita coba improve dengan hyperparameter tuning\n",
    "\n",
    "Scoring menggunakan Recall karena kita mau meminimalisir False Negative"
   ]
  },
  {
   "attachments": {},
   "cell_type": "markdown",
   "metadata": {},
   "source": [
    "#### Random Forest"
   ]
  },
  {
   "cell_type": "code",
   "execution_count": 38,
   "metadata": {},
   "outputs": [
    {
     "name": "stdout",
     "output_type": "stream",
     "text": [
      "Best parameters:  {'criterion': 'entropy', 'max_depth': 15, 'max_features': 'sqrt', 'min_samples_leaf': 2, 'min_samples_split': 4, 'n_estimators': 913}\n",
      "Best Recall score:  0.9220588235294118\n"
     ]
    }
   ],
   "source": [
    "# Hyperparameter Tuning Random Forest\n",
    "param = {\n",
    "    'n_estimators': randint(100, 1000),\n",
    "    'max_depth': [None, 5, 10, 15],\n",
    "    'max_features': ['sqrt', 'log2'],\n",
    "    'criterion' : ['gini','entropy'],\n",
    "    'min_samples_split': randint(2, 20),\n",
    "    'min_samples_leaf': randint(1, 20),\n",
    "}\n",
    "\n",
    "# create a RandomizedSearchCV object\n",
    "random_search = RandomizedSearchCV(\n",
    "    model_rf,\n",
    "    param_distributions=param,\n",
    "    n_iter=100,\n",
    "    cv=10,\n",
    "    scoring='recall',\n",
    "    random_state=18\n",
    ")\n",
    "\n",
    "# fit the RandomizedSearchCV object to the training data\n",
    "random_search.fit(X_train_final, y_train_balanced)\n",
    "# Print the best parameters and the best score\n",
    "print(\"Best parameters: \", random_search.best_params_)\n",
    "print(\"Best Recall score: \", random_search.best_score_)"
   ]
  },
  {
   "attachments": {},
   "cell_type": "markdown",
   "metadata": {},
   "source": [
    "Karena dengan parameter tuning nya kita berhasil menaikkan Recall Score training set kita, maka akan kita define ulang model yang telah kita buat dengan parameter ini"
   ]
  },
  {
   "cell_type": "code",
   "execution_count": 77,
   "metadata": {},
   "outputs": [
    {
     "data": {
      "text/html": [
       "<style>#sk-container-id-8 {color: black;background-color: white;}#sk-container-id-8 pre{padding: 0;}#sk-container-id-8 div.sk-toggleable {background-color: white;}#sk-container-id-8 label.sk-toggleable__label {cursor: pointer;display: block;width: 100%;margin-bottom: 0;padding: 0.3em;box-sizing: border-box;text-align: center;}#sk-container-id-8 label.sk-toggleable__label-arrow:before {content: \"▸\";float: left;margin-right: 0.25em;color: #696969;}#sk-container-id-8 label.sk-toggleable__label-arrow:hover:before {color: black;}#sk-container-id-8 div.sk-estimator:hover label.sk-toggleable__label-arrow:before {color: black;}#sk-container-id-8 div.sk-toggleable__content {max-height: 0;max-width: 0;overflow: hidden;text-align: left;background-color: #f0f8ff;}#sk-container-id-8 div.sk-toggleable__content pre {margin: 0.2em;color: black;border-radius: 0.25em;background-color: #f0f8ff;}#sk-container-id-8 input.sk-toggleable__control:checked~div.sk-toggleable__content {max-height: 200px;max-width: 100%;overflow: auto;}#sk-container-id-8 input.sk-toggleable__control:checked~label.sk-toggleable__label-arrow:before {content: \"▾\";}#sk-container-id-8 div.sk-estimator input.sk-toggleable__control:checked~label.sk-toggleable__label {background-color: #d4ebff;}#sk-container-id-8 div.sk-label input.sk-toggleable__control:checked~label.sk-toggleable__label {background-color: #d4ebff;}#sk-container-id-8 input.sk-hidden--visually {border: 0;clip: rect(1px 1px 1px 1px);clip: rect(1px, 1px, 1px, 1px);height: 1px;margin: -1px;overflow: hidden;padding: 0;position: absolute;width: 1px;}#sk-container-id-8 div.sk-estimator {font-family: monospace;background-color: #f0f8ff;border: 1px dotted black;border-radius: 0.25em;box-sizing: border-box;margin-bottom: 0.5em;}#sk-container-id-8 div.sk-estimator:hover {background-color: #d4ebff;}#sk-container-id-8 div.sk-parallel-item::after {content: \"\";width: 100%;border-bottom: 1px solid gray;flex-grow: 1;}#sk-container-id-8 div.sk-label:hover label.sk-toggleable__label {background-color: #d4ebff;}#sk-container-id-8 div.sk-serial::before {content: \"\";position: absolute;border-left: 1px solid gray;box-sizing: border-box;top: 0;bottom: 0;left: 50%;z-index: 0;}#sk-container-id-8 div.sk-serial {display: flex;flex-direction: column;align-items: center;background-color: white;padding-right: 0.2em;padding-left: 0.2em;position: relative;}#sk-container-id-8 div.sk-item {position: relative;z-index: 1;}#sk-container-id-8 div.sk-parallel {display: flex;align-items: stretch;justify-content: center;background-color: white;position: relative;}#sk-container-id-8 div.sk-item::before, #sk-container-id-8 div.sk-parallel-item::before {content: \"\";position: absolute;border-left: 1px solid gray;box-sizing: border-box;top: 0;bottom: 0;left: 50%;z-index: -1;}#sk-container-id-8 div.sk-parallel-item {display: flex;flex-direction: column;z-index: 1;position: relative;background-color: white;}#sk-container-id-8 div.sk-parallel-item:first-child::after {align-self: flex-end;width: 50%;}#sk-container-id-8 div.sk-parallel-item:last-child::after {align-self: flex-start;width: 50%;}#sk-container-id-8 div.sk-parallel-item:only-child::after {width: 0;}#sk-container-id-8 div.sk-dashed-wrapped {border: 1px dashed gray;margin: 0 0.4em 0.5em 0.4em;box-sizing: border-box;padding-bottom: 0.4em;background-color: white;}#sk-container-id-8 div.sk-label label {font-family: monospace;font-weight: bold;display: inline-block;line-height: 1.2em;}#sk-container-id-8 div.sk-label-container {text-align: center;}#sk-container-id-8 div.sk-container {/* jupyter's `normalize.less` sets `[hidden] { display: none; }` but bootstrap.min.css set `[hidden] { display: none !important; }` so we also need the `!important` here to be able to override the default hidden behavior on the sphinx rendered scikit-learn.org. See: https://github.com/scikit-learn/scikit-learn/issues/21755 */display: inline-block !important;position: relative;}#sk-container-id-8 div.sk-text-repr-fallback {display: none;}</style><div id=\"sk-container-id-8\" class=\"sk-top-container\"><div class=\"sk-text-repr-fallback\"><pre>RandomForestClassifier(min_samples_leaf=2, min_samples_split=12,\n",
       "                       n_estimators=647)</pre><b>In a Jupyter environment, please rerun this cell to show the HTML representation or trust the notebook. <br />On GitHub, the HTML representation is unable to render, please try loading this page with nbviewer.org.</b></div><div class=\"sk-container\" hidden><div class=\"sk-item\"><div class=\"sk-estimator sk-toggleable\"><input class=\"sk-toggleable__control sk-hidden--visually\" id=\"sk-estimator-id-14\" type=\"checkbox\" checked><label for=\"sk-estimator-id-14\" class=\"sk-toggleable__label sk-toggleable__label-arrow\">RandomForestClassifier</label><div class=\"sk-toggleable__content\"><pre>RandomForestClassifier(min_samples_leaf=2, min_samples_split=12,\n",
       "                       n_estimators=647)</pre></div></div></div></div></div>"
      ],
      "text/plain": [
       "RandomForestClassifier(min_samples_leaf=2, min_samples_split=12,\n",
       "                       n_estimators=647)"
      ]
     },
     "execution_count": 77,
     "metadata": {},
     "output_type": "execute_result"
    }
   ],
   "source": [
    "model_rf = RandomForestClassifier(criterion='gini', max_depth=None, max_features='sqrt', min_samples_leaf=2, min_samples_split=12, n_estimators=647)\n",
    "model_rf.fit(X_train_final, y_train_balanced)"
   ]
  },
  {
   "cell_type": "code",
   "execution_count": 40,
   "metadata": {},
   "outputs": [
    {
     "name": "stdout",
     "output_type": "stream",
     "text": [
      "Score Training Set : \n",
      "\n",
      "Mean Accuracy :  0.8901515151515152\n",
      "Mean Recall : 0.9095588235294118\n",
      "\n",
      "Score Test Set :\n",
      "\n",
      "Classification Report : \n",
      "               precision    recall  f1-score   support\n",
      "\n",
      "           0       0.85      0.85      0.85        39\n",
      "           1       0.71      0.71      0.71        21\n",
      "\n",
      "    accuracy                           0.80        60\n",
      "   macro avg       0.78      0.78      0.78        60\n",
      "weighted avg       0.80      0.80      0.80        60\n",
      "\n"
     ]
    }
   ],
   "source": [
    "# Cek dengan 10-fold Cross Validation\n",
    "score = cross_validate(model_rf, X_train_final, y_train_balanced, cv=10, scoring=['accuracy', 'recall'])\n",
    "print('Score Training Set : \\n')\n",
    "print('Mean Accuracy : ', score['test_accuracy'].mean())\n",
    "print('Mean Recall :', score['test_recall'].mean())\n",
    "\n",
    "print('')\n",
    "# Predict ulang Test Set dengan Model baru dan tampilkan score nya\n",
    "y_pred_test_new = model_rf.predict(X_test_final)\n",
    "print('Score Test Set :\\n')\n",
    "print('Classification Report : \\n', classification_report(y_test, y_pred_test_new))"
   ]
  },
  {
   "attachments": {},
   "cell_type": "markdown",
   "metadata": {},
   "source": [
    "#### AdaBoost"
   ]
  },
  {
   "cell_type": "code",
   "execution_count": 55,
   "metadata": {},
   "outputs": [
    {
     "name": "stdout",
     "output_type": "stream",
     "text": [
      "Best parameters:  {'learning_rate': 1.0, 'n_estimators': 100}\n",
      "Best Recall score:  0.8985294117647058\n"
     ]
    }
   ],
   "source": [
    "# Hyperparameter Tuning AdaBoost\n",
    "\n",
    "# define the grid of values to search\n",
    "grid = dict()\n",
    "grid['n_estimators'] = [10, 50, 100, 500]\n",
    "grid['learning_rate'] = [0.0001, 0.001, 0.01, 0.1, 1.0]\n",
    "\n",
    "# define the grid search procedure\n",
    "grid_search = GridSearchCV(estimator=boost, param_grid=grid, n_jobs=-1, cv=10, scoring='recall')\n",
    "\n",
    "\n",
    "# fit the RandomizedSearchCV object to the training data\n",
    "grid_search.fit(X_train_final, y_train_balanced)\n",
    "# Print the best parameters and the best score\n",
    "print(\"Best parameters: \", grid_search.best_params_)\n",
    "print(\"Best Recall score: \", grid_search.best_score_)"
   ]
  },
  {
   "cell_type": "code",
   "execution_count": 56,
   "metadata": {},
   "outputs": [
    {
     "data": {
      "text/html": [
       "<style>#sk-container-id-6 {color: black;background-color: white;}#sk-container-id-6 pre{padding: 0;}#sk-container-id-6 div.sk-toggleable {background-color: white;}#sk-container-id-6 label.sk-toggleable__label {cursor: pointer;display: block;width: 100%;margin-bottom: 0;padding: 0.3em;box-sizing: border-box;text-align: center;}#sk-container-id-6 label.sk-toggleable__label-arrow:before {content: \"▸\";float: left;margin-right: 0.25em;color: #696969;}#sk-container-id-6 label.sk-toggleable__label-arrow:hover:before {color: black;}#sk-container-id-6 div.sk-estimator:hover label.sk-toggleable__label-arrow:before {color: black;}#sk-container-id-6 div.sk-toggleable__content {max-height: 0;max-width: 0;overflow: hidden;text-align: left;background-color: #f0f8ff;}#sk-container-id-6 div.sk-toggleable__content pre {margin: 0.2em;color: black;border-radius: 0.25em;background-color: #f0f8ff;}#sk-container-id-6 input.sk-toggleable__control:checked~div.sk-toggleable__content {max-height: 200px;max-width: 100%;overflow: auto;}#sk-container-id-6 input.sk-toggleable__control:checked~label.sk-toggleable__label-arrow:before {content: \"▾\";}#sk-container-id-6 div.sk-estimator input.sk-toggleable__control:checked~label.sk-toggleable__label {background-color: #d4ebff;}#sk-container-id-6 div.sk-label input.sk-toggleable__control:checked~label.sk-toggleable__label {background-color: #d4ebff;}#sk-container-id-6 input.sk-hidden--visually {border: 0;clip: rect(1px 1px 1px 1px);clip: rect(1px, 1px, 1px, 1px);height: 1px;margin: -1px;overflow: hidden;padding: 0;position: absolute;width: 1px;}#sk-container-id-6 div.sk-estimator {font-family: monospace;background-color: #f0f8ff;border: 1px dotted black;border-radius: 0.25em;box-sizing: border-box;margin-bottom: 0.5em;}#sk-container-id-6 div.sk-estimator:hover {background-color: #d4ebff;}#sk-container-id-6 div.sk-parallel-item::after {content: \"\";width: 100%;border-bottom: 1px solid gray;flex-grow: 1;}#sk-container-id-6 div.sk-label:hover label.sk-toggleable__label {background-color: #d4ebff;}#sk-container-id-6 div.sk-serial::before {content: \"\";position: absolute;border-left: 1px solid gray;box-sizing: border-box;top: 0;bottom: 0;left: 50%;z-index: 0;}#sk-container-id-6 div.sk-serial {display: flex;flex-direction: column;align-items: center;background-color: white;padding-right: 0.2em;padding-left: 0.2em;position: relative;}#sk-container-id-6 div.sk-item {position: relative;z-index: 1;}#sk-container-id-6 div.sk-parallel {display: flex;align-items: stretch;justify-content: center;background-color: white;position: relative;}#sk-container-id-6 div.sk-item::before, #sk-container-id-6 div.sk-parallel-item::before {content: \"\";position: absolute;border-left: 1px solid gray;box-sizing: border-box;top: 0;bottom: 0;left: 50%;z-index: -1;}#sk-container-id-6 div.sk-parallel-item {display: flex;flex-direction: column;z-index: 1;position: relative;background-color: white;}#sk-container-id-6 div.sk-parallel-item:first-child::after {align-self: flex-end;width: 50%;}#sk-container-id-6 div.sk-parallel-item:last-child::after {align-self: flex-start;width: 50%;}#sk-container-id-6 div.sk-parallel-item:only-child::after {width: 0;}#sk-container-id-6 div.sk-dashed-wrapped {border: 1px dashed gray;margin: 0 0.4em 0.5em 0.4em;box-sizing: border-box;padding-bottom: 0.4em;background-color: white;}#sk-container-id-6 div.sk-label label {font-family: monospace;font-weight: bold;display: inline-block;line-height: 1.2em;}#sk-container-id-6 div.sk-label-container {text-align: center;}#sk-container-id-6 div.sk-container {/* jupyter's `normalize.less` sets `[hidden] { display: none; }` but bootstrap.min.css set `[hidden] { display: none !important; }` so we also need the `!important` here to be able to override the default hidden behavior on the sphinx rendered scikit-learn.org. See: https://github.com/scikit-learn/scikit-learn/issues/21755 */display: inline-block !important;position: relative;}#sk-container-id-6 div.sk-text-repr-fallback {display: none;}</style><div id=\"sk-container-id-6\" class=\"sk-top-container\"><div class=\"sk-text-repr-fallback\"><pre>AdaBoostClassifier(n_estimators=100)</pre><b>In a Jupyter environment, please rerun this cell to show the HTML representation or trust the notebook. <br />On GitHub, the HTML representation is unable to render, please try loading this page with nbviewer.org.</b></div><div class=\"sk-container\" hidden><div class=\"sk-item\"><div class=\"sk-estimator sk-toggleable\"><input class=\"sk-toggleable__control sk-hidden--visually\" id=\"sk-estimator-id-10\" type=\"checkbox\" checked><label for=\"sk-estimator-id-10\" class=\"sk-toggleable__label sk-toggleable__label-arrow\">AdaBoostClassifier</label><div class=\"sk-toggleable__content\"><pre>AdaBoostClassifier(n_estimators=100)</pre></div></div></div></div></div>"
      ],
      "text/plain": [
       "AdaBoostClassifier(n_estimators=100)"
      ]
     },
     "execution_count": 56,
     "metadata": {},
     "output_type": "execute_result"
    }
   ],
   "source": [
    "boost = AdaBoostClassifier(learning_rate=1.0, n_estimators=100)\n",
    "boost.fit(X_train_final, y_train_balanced)"
   ]
  },
  {
   "cell_type": "code",
   "execution_count": 57,
   "metadata": {},
   "outputs": [
    {
     "name": "stdout",
     "output_type": "stream",
     "text": [
      "Score Training Set : \n",
      "\n",
      "Mean Accuracy :  0.8842803030303031\n",
      "Mean Recall : 0.8985294117647058\n",
      "\n",
      "Score Test Set :\n",
      "\n",
      "Classification Report : \n",
      "               precision    recall  f1-score   support\n",
      "\n",
      "           0       0.79      0.77      0.78        39\n",
      "           1       0.59      0.62      0.60        21\n",
      "\n",
      "    accuracy                           0.72        60\n",
      "   macro avg       0.69      0.69      0.69        60\n",
      "weighted avg       0.72      0.72      0.72        60\n",
      "\n"
     ]
    }
   ],
   "source": [
    "# Cek dengan 10-fold Cross Validation\n",
    "score = cross_validate(boost, X_train_final, y_train_balanced, cv=10, scoring=['accuracy', 'recall'])\n",
    "print('Score Training Set : \\n')\n",
    "print('Mean Accuracy : ', score['test_accuracy'].mean())\n",
    "print('Mean Recall :', score['test_recall'].mean())\n",
    "\n",
    "print('')\n",
    "# Predict ulang Test Set dengan Model baru dan tampilkan score nya\n",
    "y_pred_test_new = boost.predict(X_test_final)\n",
    "print('Score Test Set :\\n')\n",
    "print('Classification Report : \\n', classification_report(y_test, y_pred_test_new))"
   ]
  },
  {
   "attachments": {},
   "cell_type": "markdown",
   "metadata": {},
   "source": [
    "### Voting"
   ]
  },
  {
   "cell_type": "code",
   "execution_count": 61,
   "metadata": {},
   "outputs": [
    {
     "name": "stdout",
     "output_type": "stream",
     "text": [
      "Score Training Set : \n",
      "\n",
      "Mean Accuracy :  0.8934659090909092\n",
      "Mean Recall : 0.8625\n",
      "\n",
      "Score Test Set :\n",
      "\n",
      "Classification Report : \n",
      "               precision    recall  f1-score   support\n",
      "\n",
      "           0       0.79      0.85      0.81        39\n",
      "           1       0.67      0.57      0.62        21\n",
      "\n",
      "    accuracy                           0.75        60\n",
      "   macro avg       0.73      0.71      0.72        60\n",
      "weighted avg       0.74      0.75      0.75        60\n",
      "\n"
     ]
    }
   ],
   "source": [
    "# Buat Hard Voting Ensemble\n",
    "hard = VotingClassifier(estimators=[('Random Forest', model_rf),\n",
    "                                    ('AdaBoost', boost)],\n",
    "                                voting='hard'\n",
    "                                )\n",
    "hard.fit(X_train_final, y_train_balanced)\n",
    "\n",
    "# Cek dengan 10-fold Cross Validation\n",
    "score = cross_validate(hard, X_train_final, y_train_balanced, cv=10, scoring=['accuracy', 'recall'])\n",
    "print('Score Training Set : \\n')\n",
    "print('Mean Accuracy : ', score['test_accuracy'].mean())\n",
    "print('Mean Recall :', score['test_recall'].mean())\n",
    "\n",
    "print('')\n",
    "# Predict ulang Test Set dengan Model baru dan tampilkan score nya\n",
    "y_pred_test_new = hard.predict(X_test_final)\n",
    "print('Score Test Set :\\n')\n",
    "print('Classification Report : \\n', classification_report(y_test, y_pred_test_new))"
   ]
  },
  {
   "cell_type": "code",
   "execution_count": 62,
   "metadata": {},
   "outputs": [
    {
     "name": "stdout",
     "output_type": "stream",
     "text": [
      "Score Training Set : \n",
      "\n",
      "Mean Accuracy :  0.8994318181818182\n",
      "Mean Recall : 0.9154411764705882\n",
      "\n",
      "Score Test Set :\n",
      "\n",
      "Classification Report : \n",
      "               precision    recall  f1-score   support\n",
      "\n",
      "           0       0.82      0.82      0.82        39\n",
      "           1       0.67      0.67      0.67        21\n",
      "\n",
      "    accuracy                           0.77        60\n",
      "   macro avg       0.74      0.74      0.74        60\n",
      "weighted avg       0.77      0.77      0.77        60\n",
      "\n"
     ]
    }
   ],
   "source": [
    "# Buat Soft Voting Ensemble\n",
    "soft = VotingClassifier(estimators=[('Random Forest', model_rf),\n",
    "                                    ('AdaBoost', boost)],\n",
    "                                voting='soft'\n",
    "                                )\n",
    "soft.fit(X_train_final, y_train_balanced)\n",
    "\n",
    "# Cek dengan 10-fold Cross Validation\n",
    "score = cross_validate(soft, X_train_final, y_train_balanced, cv=10, scoring=['accuracy', 'recall'])\n",
    "print('Score Training Set : \\n')\n",
    "print('Mean Accuracy : ', score['test_accuracy'].mean())\n",
    "print('Mean Recall :', score['test_recall'].mean())\n",
    "\n",
    "print('')\n",
    "# Predict ulang Test Set dengan Model baru dan tampilkan score nya\n",
    "y_pred_test_new = soft.predict(X_test_final)\n",
    "print('Score Test Set :\\n')\n",
    "print('Classification Report : \\n', classification_report(y_test, y_pred_test_new))"
   ]
  },
  {
   "attachments": {},
   "cell_type": "markdown",
   "metadata": {},
   "source": [
    "### Insight"
   ]
  },
  {
   "attachments": {},
   "cell_type": "markdown",
   "metadata": {},
   "source": [
    "1. Model Random Forest yang telah kita buat di awal masih overfit, karena kalau kita lihat recall nya di test set hanya dapat 0.67 dibadingkan 0.92 di train set. Setelah kita coba hyperparameter tuning menjadi sedikit lebih baik dengan recall 0.71 berbanding dengan 0.91 tetapi masih bisa dibilang overfit\n",
    "2. Model AdaBoost kita sedikit lebih jelek dengan recall score 0.52 untuk test set nya. Model ini juga tergolong overfit, walaupun sudah di hyperparameter tuning. Dengan recall 0.62 berbanding dengan 0.89 saat di train set\n",
    "3. Saat kita coba ensemble kedua model dengan hard dan soft voting, tidak mengimprove accuracy maupun recall yang sudah didapatkan oleh model kita yang Random Forest, jadi saya akan menggunakan model Random FOrest tersebut sebagai model yang akan kita pakai dengan accuracy pada test set di 80%, dan recall 0.71 yang berarti masih ada 29% flasee negative\n",
    "4. Untuk mengimrpove model mumngkin bisa dilakukan dengan memperbanyak sample data karena dalam dataset ini jumlah nya cukup sedikit. Sudah kita coba juga dengan melakukan Ensemble dan Hyperparameter Tuning namun itu jhuga tiadk mengimprove secara signifikan"
   ]
  },
  {
   "attachments": {},
   "cell_type": "markdown",
   "metadata": {},
   "source": [
    "## 10. Model Saving"
   ]
  },
  {
   "cell_type": "code",
   "execution_count": 80,
   "metadata": {},
   "outputs": [],
   "source": [
    "# Save the Files\n",
    "\n",
    "with open('model_rf.pkl', 'wb') as file_1:\n",
    "  pickle.dump(model_rf, file_1)\n",
    "\n",
    "with open('model_scaler.pkl', 'wb') as file_3:\n",
    "  pickle.dump(scaler, file_3)\n",
    "\n",
    "with open('model_encoder.pkl', 'wb') as file_4:\n",
    "  pickle.dump(encoder, file_4)\n",
    "\n",
    "with open('list_num_cols.txt', 'w') as file_5:\n",
    "  json.dump(num_columns, file_5)\n",
    "\n",
    "with open('list_cat_cols.txt','w') as file_6: \n",
    "  json.dump(cat_columns, file_6)"
   ]
  },
  {
   "attachments": {},
   "cell_type": "markdown",
   "metadata": {},
   "source": [
    "## 11. Model Inference"
   ]
  },
  {
   "cell_type": "code",
   "execution_count": 81,
   "metadata": {},
   "outputs": [],
   "source": [
    "# Load All Files\n",
    "\n",
    "with open('model_rf.pkl', 'rb') as file_1:\n",
    "  model_rf = pickle.load(file_1)\n",
    "\n",
    "with open('model_scaler.pkl', 'rb') as file_3:\n",
    "  model_scaler = pickle.load(file_3)\n",
    "\n",
    "with open('model_encoder.pkl','rb') as file_4:\n",
    "  model_encoder = pickle.load(file_4)\n",
    "\n",
    "with open('list_num_cols.txt', 'r') as file_5:\n",
    "  list_num_cols = json.load(file_5)\n",
    "\n",
    "with open('list_cat_cols.txt', 'r') as file_6:\n",
    "  list_cat_cols = json.load(file_6)"
   ]
  },
  {
   "cell_type": "code",
   "execution_count": 71,
   "metadata": {},
   "outputs": [
    {
     "data": {
      "text/html": [
       "<div>\n",
       "<style scoped>\n",
       "    .dataframe tbody tr th:only-of-type {\n",
       "        vertical-align: middle;\n",
       "    }\n",
       "\n",
       "    .dataframe tbody tr th {\n",
       "        vertical-align: top;\n",
       "    }\n",
       "\n",
       "    .dataframe thead th {\n",
       "        text-align: right;\n",
       "    }\n",
       "</style>\n",
       "<table border=\"1\" class=\"dataframe\">\n",
       "  <thead>\n",
       "    <tr style=\"text-align: right;\">\n",
       "      <th></th>\n",
       "      <th>age</th>\n",
       "      <th>anemia</th>\n",
       "      <th>cpk</th>\n",
       "      <th>diabetes</th>\n",
       "      <th>ejection_fraction</th>\n",
       "      <th>hypertension</th>\n",
       "      <th>platelets</th>\n",
       "      <th>serum_creatinine</th>\n",
       "      <th>serum_sodium</th>\n",
       "      <th>sex</th>\n",
       "      <th>smoking</th>\n",
       "      <th>time</th>\n",
       "    </tr>\n",
       "  </thead>\n",
       "  <tbody>\n",
       "    <tr>\n",
       "      <th>0</th>\n",
       "      <td>23</td>\n",
       "      <td>0</td>\n",
       "      <td>197</td>\n",
       "      <td>1</td>\n",
       "      <td>68</td>\n",
       "      <td>0</td>\n",
       "      <td>297000</td>\n",
       "      <td>1.1</td>\n",
       "      <td>129</td>\n",
       "      <td>1</td>\n",
       "      <td>0</td>\n",
       "      <td>86</td>\n",
       "    </tr>\n",
       "  </tbody>\n",
       "</table>\n",
       "</div>"
      ],
      "text/plain": [
       "   age  anemia  cpk  diabetes  ejection_fraction  hypertension  platelets  \\\n",
       "0   23       0  197         1                 68             0     297000   \n",
       "\n",
       "   serum_creatinine  serum_sodium  sex  smoking  time  \n",
       "0               1.1           129    1        0    86  "
      ]
     },
     "execution_count": 71,
     "metadata": {},
     "output_type": "execute_result"
    }
   ],
   "source": [
    "# Create New Data\n",
    "\n",
    "data_inf = {\n",
    "    'age': 23,\n",
    "    'anemia': 0,\n",
    "    'cpk': 197,\n",
    "    'diabetes': 1,\n",
    "    'ejection_fraction' : 68,\n",
    "    'hypertension': 0,\n",
    "    'platelets': 297000,\n",
    "    'serum_creatinine': 1.1,\n",
    "    'serum_sodium': 129,\n",
    "    'sex': 1,\n",
    "    'smoking': 0,\n",
    "    'time': 86 \n",
    "    }\n",
    "\n",
    "data_inf = pd.DataFrame([data_inf])\n",
    "data_inf"
   ]
  },
  {
   "cell_type": "code",
   "execution_count": 83,
   "metadata": {},
   "outputs": [
    {
     "name": "stdout",
     "output_type": "stream",
     "text": [
      "Hasil prediksi Model :  [0]\n"
     ]
    }
   ],
   "source": [
    "# Split between Numerical Columns and Categorical Columns\n",
    "\n",
    "data_inf_num = data_inf[list_num_cols]\n",
    "data_inf_cat = data_inf[list_cat_cols]\n",
    "\n",
    "# Feature Scaling and Feature Encoding\n",
    "\n",
    "data_inf_num_scaled = model_scaler.transform(data_inf_num)\n",
    "data_inf_cat_encoded = model_encoder.transform(data_inf_cat)\n",
    "data_inf_final = np.concatenate([data_inf_num_scaled, data_inf_cat_encoded], axis=1)\n",
    "\n",
    "# Predict using Model\n",
    "\n",
    "y_pred_inf = model_rf.predict(data_inf_final)\n",
    "print('Hasil prediksi Model : ', y_pred_inf)"
   ]
  },
  {
   "attachments": {},
   "cell_type": "markdown",
   "metadata": {},
   "source": [
    "Berdasarkan data inference yang saya masukkan, kelihatannya patient dengan medical details tersebut tidak akan meninggal akibat gagal jantung"
   ]
  },
  {
   "attachments": {},
   "cell_type": "markdown",
   "metadata": {},
   "source": [
    "## 12. Conclusion"
   ]
  },
  {
   "attachments": {},
   "cell_type": "markdown",
   "metadata": {},
   "source": [
    "1. Dari EDA:\n",
    "- Semakin lama trial period (column time) seorang patient, semakin besar kemungkinan dia hidup.\n",
    "- Kita jauh lebih beresiko untuk gagal jantung apabila kita mengidap both Hipertensi dan juga Anemia.\n",
    "- Level Trombosit yang terlalu rendah maupun terlalu tinggi sama sama tidak baik dan dapat menyebabkan gagal jantung\n",
    "2. Model yang akan kita pakai adalah hasil model Random Forest dengan Accuracy 80% dimana masih ada 21% kemungkinan salah diagnosis Negative nya\n",
    "3. Untuk improve model dengan memperbanyak sample dataset agar model bisa lebih terlatih"
   ]
  },
  {
   "attachments": {},
   "cell_type": "markdown",
   "metadata": {},
   "source": [
    "### Conceptual Problems"
   ]
  },
  {
   "attachments": {},
   "cell_type": "markdown",
   "metadata": {},
   "source": [
    "1. Jelaskan latar belakang adanya bagging dan cara kerja bagging !\n",
    "\n",
    "Bagging atau Bootstrap Aggregation adalah metode ensemble learning untuk mengurangi variance. Bagging bekerja secara Pararel. Random Forest juga merupakan salah satu bagian dari metode bagging\n",
    "\n",
    "Maksud dari Paralel adalah dalam algoritma Bagging ini, misal random forest, model akan membuat banyak decision tree  dan setiap pohon akan berdisi sendiri tanpa dipengaruhi oleh pohon lainnya\n"
   ]
  },
  {
   "attachments": {},
   "cell_type": "markdown",
   "metadata": {},
   "source": [
    "2. Jelaskan perbedaan cara kerja algoritma Random Forest dengan algoritma boosting yang Anda pilih !\n",
    "\n",
    "Sedangkan kalau untuk boosting bekerja secara sequential, dimana pohon pertama dibuat terlebih dahulu, lihat hasil nya, lalu pohon kedua akan dibuat berdasarkan hasil dari pohon pertama, dst. Jadi setiap model pohon didalam algoritma boost yang dibuat itu berhubungan satu dengan yang lain. \n",
    "\n",
    "Model boosting yang saya pakai yaitu Ada Boost mencari weak learners dari model pertama, di ubah menjadi strong learners pada pohon berikut nya, dst"
   ]
  }
 ],
 "metadata": {
  "kernelspec": {
   "display_name": "Python 3",
   "language": "python",
   "name": "python3"
  },
  "language_info": {
   "codemirror_mode": {
    "name": "ipython",
    "version": 3
   },
   "file_extension": ".py",
   "mimetype": "text/x-python",
   "name": "python",
   "nbconvert_exporter": "python",
   "pygments_lexer": "ipython3",
   "version": "3.11.1"
  },
  "orig_nbformat": 4
 },
 "nbformat": 4,
 "nbformat_minor": 2
}
